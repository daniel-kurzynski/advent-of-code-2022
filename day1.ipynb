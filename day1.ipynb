{
 "cells": [
  {
   "cell_type": "code",
   "execution_count": 7,
   "metadata": {
    "collapsed": true,
    "pycharm": {
     "name": "#%%\n"
    }
   },
   "outputs": [],
   "source": [
    "from aocd import get_data, submit"
   ]
  },
  {
   "cell_type": "code",
   "execution_count": 8,
   "outputs": [],
   "source": [
    "calories_raw = get_data(day=1, year=2022).splitlines()"
   ],
   "metadata": {
    "collapsed": false,
    "pycharm": {
     "name": "#%%\n"
    }
   }
  },
  {
   "cell_type": "code",
   "execution_count": 9,
   "outputs": [
    {
     "name": "stdout",
     "output_type": "stream",
     "text": [
      "Max calories: 71124\n",
      "Some of calories of the top 3: 204639\n"
     ]
    }
   ],
   "source": [
    "new_elves_indices = [0] + [i + 1 for i, x in enumerate(calories_raw) if x == \"\"]\n",
    "calories_per_elf = [list(map(int, calories_raw[new_elves_indices[i]:new_elves_indices[i + 1] - 1])) for i in range(len(new_elves_indices) - 1)]\n",
    "\n",
    "sorted_sums_of_calories_per_elf = [sum(calories) for calories in calories_per_elf]\n",
    "sorted_sums_of_calories_per_elf.sort(reverse=True)\n",
    "\n",
    "print(f\"Max calories: {sorted_sums_of_calories_per_elf[0]}\")\n",
    "print(f\"Some of calories of the top 3: {sum(sorted_sums_of_calories_per_elf[0:3])}\")"
   ],
   "metadata": {
    "collapsed": false,
    "pycharm": {
     "name": "#%%\n"
    }
   }
  },
  {
   "cell_type": "code",
   "execution_count": 9,
   "outputs": [],
   "source": [],
   "metadata": {
    "collapsed": false,
    "pycharm": {
     "name": "#%%\n"
    }
   }
  }
 ],
 "metadata": {
  "kernelspec": {
   "name": "tf_gpu",
   "language": "python",
   "display_name": "tf_gpu"
  },
  "language_info": {
   "codemirror_mode": {
    "name": "ipython",
    "version": 2
   },
   "file_extension": ".py",
   "mimetype": "text/x-python",
   "name": "python",
   "nbconvert_exporter": "python",
   "pygments_lexer": "ipython2",
   "version": "2.7.6"
  }
 },
 "nbformat": 4,
 "nbformat_minor": 0
}