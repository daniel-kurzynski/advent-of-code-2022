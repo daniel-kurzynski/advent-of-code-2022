{
 "cells": [
  {
   "cell_type": "code",
   "execution_count": 1,
   "metadata": {
    "collapsed": true,
    "pycharm": {
     "name": "#%%\n"
    }
   },
   "outputs": [],
   "source": [
    "from aocd import get_data, submit\n",
    "import numpy as np"
   ]
  },
  {
   "cell_type": "code",
   "execution_count": 2,
   "outputs": [],
   "source": [
    "example_data = \"addx 15\\naddx -11\\naddx 6\\naddx -3\\naddx 5\\naddx -1\\naddx -8\\naddx 13\\naddx 4\\nnoop\\naddx -1\\naddx 5\\naddx -1\\naddx 5\\naddx -1\\naddx 5\\naddx -1\\naddx 5\\naddx -1\\naddx -35\\naddx 1\\naddx 24\\naddx -19\\naddx 1\\naddx 16\\naddx -11\\nnoop\\nnoop\\naddx 21\\naddx -15\\nnoop\\nnoop\\naddx -3\\naddx 9\\naddx 1\\naddx -3\\naddx 8\\naddx 1\\naddx 5\\nnoop\\nnoop\\nnoop\\nnoop\\nnoop\\naddx -36\\nnoop\\naddx 1\\naddx 7\\nnoop\\nnoop\\nnoop\\naddx 2\\naddx 6\\nnoop\\nnoop\\nnoop\\nnoop\\nnoop\\naddx 1\\nnoop\\nnoop\\naddx 7\\naddx 1\\nnoop\\naddx -13\\naddx 13\\naddx 7\\nnoop\\naddx 1\\naddx -33\\nnoop\\nnoop\\nnoop\\naddx 2\\nnoop\\nnoop\\nnoop\\naddx 8\\nnoop\\naddx -1\\naddx 2\\naddx 1\\nnoop\\naddx 17\\naddx -9\\naddx 1\\naddx 1\\naddx -3\\naddx 11\\nnoop\\nnoop\\naddx 1\\nnoop\\naddx 1\\nnoop\\nnoop\\naddx -13\\naddx -19\\naddx 1\\naddx 3\\naddx 26\\naddx -30\\naddx 12\\naddx -1\\naddx 3\\naddx 1\\nnoop\\nnoop\\nnoop\\naddx -9\\naddx 18\\naddx 1\\naddx 2\\nnoop\\nnoop\\naddx 9\\nnoop\\nnoop\\nnoop\\naddx -1\\naddx 2\\naddx -37\\naddx 1\\naddx 3\\nnoop\\naddx 15\\naddx -21\\naddx 22\\naddx -6\\naddx 1\\nnoop\\naddx 2\\naddx 1\\nnoop\\naddx -10\\nnoop\\nnoop\\naddx 20\\naddx 1\\naddx 2\\naddx 2\\naddx -6\\naddx -11\\nnoop\\nnoop\\nnoop\"\n",
    "real_data = get_data(day=10, year=2022)"
   ],
   "metadata": {
    "collapsed": false,
    "pycharm": {
     "name": "#%%\n"
    }
   }
  },
  {
   "cell_type": "code",
   "execution_count": 3,
   "outputs": [],
   "source": [
    "commands = [line.split(\" \") for line in real_data.splitlines()]"
   ],
   "metadata": {
    "collapsed": false,
    "pycharm": {
     "name": "#%%\n"
    }
   }
  },
  {
   "cell_type": "code",
   "execution_count": 4,
   "outputs": [
    {
     "name": "stdout",
     "output_type": "stream",
     "text": [
      "20 21 21 420\n",
      "60 60 17 1020\n",
      "100 101 21 2100\n",
      "140 140 17 2380\n",
      "180 181 21 3780\n",
      "220 221 37 8140\n",
      "Sum signal strengths: 17840\n"
     ]
    }
   ],
   "source": [
    "X = 1\n",
    "cycle = 0\n",
    "interesting_cycle = 20\n",
    "interesting_signals = []\n",
    "\n",
    "for command in commands:\n",
    "    cycle = cycle + (2 if command[0] == \"addx\" else 1)\n",
    "\n",
    "    if cycle >= interesting_cycle:\n",
    "        interesting_signals.append(interesting_cycle * X)\n",
    "        print(interesting_cycle, cycle, X, interesting_cycle * X)\n",
    "\n",
    "        interesting_cycle = interesting_cycle + 40\n",
    "\n",
    "        if interesting_cycle > 220:\n",
    "            break\n",
    "\n",
    "    if command[0] == \"addx\":\n",
    "        X = X + int(command[1])\n",
    "\n",
    "print(f\"Sum signal strengths: {sum(interesting_signals)}\")"
   ],
   "metadata": {
    "collapsed": false,
    "pycharm": {
     "name": "#%%\n"
    }
   }
  },
  {
   "cell_type": "code",
   "execution_count": 5,
   "outputs": [
    {
     "name": "stdout",
     "output_type": "stream",
     "text": [
      "CRT output:\n",
      "XXXX..XX..X.....XX..X..X.X....XXX...XX..\n",
      "X....X..X.X....X..X.X..X.X....X..X.X..X.\n",
      "XXX..X..X.X....X....X..X.X....X..X.X....\n",
      "X....XXXX.X....X.XX.X..X.X....XXX..X.XX.\n",
      "X....X..X.X....X..X.X..X.X....X....X..X.\n",
      "XXXX.X..X.XXXX..XXX..XX..XXXX.X.....XXX.\n"
     ]
    }
   ],
   "source": [
    "X = 1\n",
    "screen = []\n",
    "\n",
    "for command in commands:\n",
    "\n",
    "    if command[0] == \"noop\":\n",
    "        position = len(screen) % 40\n",
    "        screen.append(\"X\" if abs(position-X)<=1 else \".\")\n",
    "    else:\n",
    "        for i in range(2):\n",
    "            position = len(screen) % 40\n",
    "            screen.append(\"X\" if abs(position-X)<=1 else \".\")\n",
    "\n",
    "        X = X + int(command[1])\n",
    "\n",
    "print(f\"CRT output:\")\n",
    "print(\"\\n\".join([\"\".join(x) for x in np.array(screen).reshape((6,40))]))"
   ],
   "metadata": {
    "collapsed": false,
    "pycharm": {
     "name": "#%%\n"
    }
   }
  },
  {
   "cell_type": "code",
   "execution_count": null,
   "outputs": [],
   "source": [],
   "metadata": {
    "collapsed": false,
    "pycharm": {
     "name": "#%%\n"
    }
   }
  }
 ],
 "metadata": {
  "kernelspec": {
   "name": "tf_gpu",
   "language": "python",
   "display_name": "tf_gpu"
  },
  "language_info": {
   "codemirror_mode": {
    "name": "ipython",
    "version": 2
   },
   "file_extension": ".py",
   "mimetype": "text/x-python",
   "name": "python",
   "nbconvert_exporter": "python",
   "pygments_lexer": "ipython2",
   "version": "2.7.6"
  }
 },
 "nbformat": 4,
 "nbformat_minor": 0
}