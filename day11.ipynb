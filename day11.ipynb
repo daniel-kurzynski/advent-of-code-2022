{
 "cells": [
  {
   "cell_type": "code",
   "execution_count": 1,
   "metadata": {
    "collapsed": true,
    "pycharm": {
     "name": "#%%\n"
    }
   },
   "outputs": [],
   "source": [
    "from aocd import get_data, submit\n",
    "import re\n",
    "import numpy as np\n",
    "from dataclasses import dataclass"
   ]
  },
  {
   "cell_type": "code",
   "execution_count": 2,
   "outputs": [],
   "source": [
    "example_data = \"Monkey 0:\\n  Starting items: 79, 98\\n  Operation: new = old * 19\\n  Test: divisible by 23\\n    If true: throw to monkey 2\\n    If false: throw to monkey 3\\n\\nMonkey 1:\\n  Starting items: 54, 65, 75, 74\\n  Operation: new = old + 6\\n  Test: divisible by 19\\n    If true: throw to monkey 2\\n    If false: throw to monkey 0\\n\\nMonkey 2:\\n  Starting items: 79, 60, 97\\n  Operation: new = old * old\\n  Test: divisible by 13\\n    If true: throw to monkey 1\\n    If false: throw to monkey 3\\n\\nMonkey 3:\\n  Starting items: 74\\n  Operation: new = old + 3\\n  Test: divisible by 17\\n    If true: throw to monkey 0\\n    If false: throw to monkey 1\"\n",
    "real_data = get_data(day=11, year=2022)"
   ],
   "metadata": {
    "collapsed": false,
    "pycharm": {
     "name": "#%%\n"
    }
   }
  },
  {
   "cell_type": "code",
   "execution_count": 3,
   "outputs": [],
   "source": [
    "class Monkey:\n",
    "    def __init__(self, starting_items, operation_raw, relieve, test_divisible_by, throw_to_monkey_true, throw_to_monkey_false, monkeys):\n",
    "        self.items: [] = starting_items\n",
    "        self.operation_raw = operation_raw\n",
    "        self.relieve = relieve\n",
    "        self.test_divisible_by = test_divisible_by\n",
    "        self.throw_to_monkey_true = throw_to_monkey_true\n",
    "        self.throw_to_monkey_false = throw_to_monkey_false\n",
    "        self.monkeys = monkeys\n",
    "        self.inspected_items = 0\n",
    "\n",
    "    def receive_item(self, worry_level):\n",
    "        self.items.append(worry_level)\n",
    "\n",
    "    def operation(self, old):\n",
    "        return eval(self.operation_raw)\n",
    "\n",
    "    def has_items(self):\n",
    "        return len(self.items) > 0\n",
    "\n",
    "    def get_items(self):\n",
    "        return self.items\n",
    "\n",
    "    def inspect_and_throw(self):\n",
    "        self.inspected_items = self.inspected_items + 1\n",
    "        worry_level = self.items.pop(0)\n",
    "        worry_level = self.operation(worry_level)\n",
    "        worry_level = self.relieve(worry_level)\n",
    "\n",
    "        throw_to_monkey = self.throw_to_monkey_true if worry_level % self.test_divisible_by == 0 else self.throw_to_monkey_false\n",
    "        self.monkeys[throw_to_monkey].receive_item(worry_level)\n"
   ],
   "metadata": {
    "collapsed": false,
    "pycharm": {
     "name": "#%%\n"
    }
   }
  },
  {
   "cell_type": "code",
   "execution_count": 4,
   "outputs": [],
   "source": [
    "def simulate(part, rounds):\n",
    "    monkeys = []\n",
    "    divisible_list = []\n",
    "    for monkey_raw in [x.splitlines() for x in real_data.split(\"\\n\\n\")]:\n",
    "        divisible_list.append(int(monkey_raw[3].strip()[19:]))\n",
    "\n",
    "    prod = np.prod(divisible_list)\n",
    "\n",
    "    for monkey_raw in [x.splitlines() for x in real_data.split(\"\\n\\n\")]:\n",
    "        starting_items = list(map(np.int64, monkey_raw[1].strip()[16:].split(\",\")))\n",
    "        operation_raw = monkey_raw[2].strip()[17:]\n",
    "        test_divisible_by = int(monkey_raw[3].strip()[19:])\n",
    "        throw_to_monkey_true = int(monkey_raw[4].strip()[25:])\n",
    "        throw_to_monkey_false = int(monkey_raw[5].strip()[25:])\n",
    "        relieve = (lambda each: each % prod) if part==2 else  (lambda each: each // 3)\n",
    "        monkeys.append(Monkey(starting_items, operation_raw, relieve, test_divisible_by, throw_to_monkey_true, throw_to_monkey_false, monkeys))\n",
    "\n",
    "    for r in range(rounds):\n",
    "        for monkey in monkeys:\n",
    "            while monkey.has_items():\n",
    "                monkey.inspect_and_throw()\n",
    "\n",
    "    print(f\"Monkey business for part {part}: {np.prod(sorted([x.inspected_items for x in monkeys])[-2:], dtype=np.int64)}\")"
   ],
   "metadata": {
    "collapsed": false,
    "pycharm": {
     "name": "#%%\n"
    }
   }
  },
  {
   "cell_type": "code",
   "execution_count": 5,
   "outputs": [
    {
     "name": "stdout",
     "output_type": "stream",
     "text": [
      "Monkey business for part 1: 67830\n"
     ]
    }
   ],
   "source": [
    "simulate(1, 20)"
   ],
   "metadata": {
    "collapsed": false,
    "pycharm": {
     "name": "#%%\n"
    }
   }
  },
  {
   "cell_type": "code",
   "execution_count": 6,
   "outputs": [
    {
     "name": "stdout",
     "output_type": "stream",
     "text": [
      "Monkey business for part 2: 15305381442\n"
     ]
    }
   ],
   "source": [
    "simulate(2, 10000)"
   ],
   "metadata": {
    "collapsed": false,
    "pycharm": {
     "name": "#%%\n"
    }
   }
  },
  {
   "cell_type": "code",
   "execution_count": null,
   "outputs": [],
   "source": [],
   "metadata": {
    "collapsed": false,
    "pycharm": {
     "name": "#%%\n"
    }
   }
  }
 ],
 "metadata": {
  "kernelspec": {
   "name": "tf_gpu",
   "language": "python",
   "display_name": "tf_gpu"
  },
  "language_info": {
   "codemirror_mode": {
    "name": "ipython",
    "version": 2
   },
   "file_extension": ".py",
   "mimetype": "text/x-python",
   "name": "python",
   "nbconvert_exporter": "python",
   "pygments_lexer": "ipython2",
   "version": "2.7.6"
  }
 },
 "nbformat": 4,
 "nbformat_minor": 0
}