{
 "cells": [
  {
   "cell_type": "code",
   "execution_count": 1,
   "metadata": {
    "collapsed": true,
    "pycharm": {
     "name": "#%%\n"
    }
   },
   "outputs": [],
   "source": [
    "from aocd import get_data, submit\n",
    "import re\n",
    "import numpy as np\n",
    "from dataclasses import dataclass"
   ]
  },
  {
   "cell_type": "code",
   "execution_count": 2,
   "outputs": [],
   "source": [
    "example_data = \"Sabqponm\\nabcryxxl\\naccszExk\\nacctuvwj\\nabdefghi\"\n",
    "real_data = get_data(day=12, year=2022)"
   ],
   "metadata": {
    "collapsed": false,
    "pycharm": {
     "name": "#%%\n"
    }
   }
  },
  {
   "cell_type": "code",
   "execution_count": 3,
   "outputs": [],
   "source": [
    "grid = np.array([list(line) for line in real_data.splitlines()])"
   ],
   "metadata": {
    "collapsed": false,
    "pycharm": {
     "name": "#%%\n"
    }
   }
  },
  {
   "cell_type": "code",
   "execution_count": 4,
   "outputs": [],
   "source": [
    "def map_to_height(each):\n",
    "    return 0 if each == \"S\" else 25 if each == \"E\" else ord(each)-97\n",
    "\n",
    "heights = np.vectorize(map_to_height)(grid)"
   ],
   "metadata": {
    "collapsed": false,
    "pycharm": {
     "name": "#%%\n"
    }
   }
  },
  {
   "cell_type": "code",
   "execution_count": 5,
   "outputs": [],
   "source": [
    "def find_shortest_path(start, end, heights):\n",
    "    queue = [start]\n",
    "    visited = np.zeros(heights.shape, dtype=bool)\n",
    "    path_length = np.zeros(heights.shape, dtype=int)\n",
    "\n",
    "    def visitNext(current, next):\n",
    "        if not visited[next] and heights[next]<=heights[current]+1:\n",
    "            visited[next] = True\n",
    "            path_length[next] = path_length[current]+1\n",
    "            queue.append(next)\n",
    "\n",
    "    while len(queue)>0:\n",
    "        current = queue.pop(0)\n",
    "\n",
    "        if current == end:\n",
    "            break\n",
    "\n",
    "        if current[0]>0:\n",
    "            visitNext(current, (current[0]-1, current[1]))\n",
    "\n",
    "        if current[0]<grid.shape[0]-1:\n",
    "            visitNext(current, (current[0]+1, current[1]))\n",
    "\n",
    "        if current[1]>0:\n",
    "            visitNext(current, (current[0], current[1]-1))\n",
    "\n",
    "        if current[1]<grid.shape[1]-1:\n",
    "            visitNext(current, (current[0], current[1]+1))\n",
    "\n",
    "    return path_length[end] if visited[end] else -1"
   ],
   "metadata": {
    "collapsed": false,
    "pycharm": {
     "name": "#%%\n"
    }
   }
  },
  {
   "cell_type": "code",
   "execution_count": 6,
   "outputs": [
    {
     "name": "stdout",
     "output_type": "stream",
     "text": [
      "Shortest path from S to E: 481\n"
     ]
    }
   ],
   "source": [
    "start = tuple(np.argwhere(grid == \"S\")[0])\n",
    "end = tuple(np.argwhere(grid == \"E\")[0])\n",
    "path_S_to_E = find_shortest_path(start, end, heights)\n",
    "\n",
    "print(f\"Shortest path from S to E: {path_S_to_E}\")"
   ],
   "metadata": {
    "collapsed": false,
    "pycharm": {
     "name": "#%%\n"
    }
   }
  },
  {
   "cell_type": "code",
   "execution_count": 7,
   "outputs": [
    {
     "name": "stdout",
     "output_type": "stream",
     "text": [
      "Shortest path from any a to E: 480\n"
     ]
    }
   ],
   "source": [
    "min_path = path_S_to_E\n",
    "for height_a in np.argwhere(grid == \"a\"):\n",
    "    start = tuple(height_a)\n",
    "    path = find_shortest_path(start, end, heights)\n",
    "    if path>0 and min_path > path:\n",
    "        min_path = path\n",
    "\n",
    "print(f\"Shortest path from any a to E: {min_path}\")"
   ],
   "metadata": {
    "collapsed": false,
    "pycharm": {
     "name": "#%%\n"
    }
   }
  },
  {
   "cell_type": "code",
   "execution_count": null,
   "outputs": [],
   "source": [],
   "metadata": {
    "collapsed": false,
    "pycharm": {
     "name": "#%%\n"
    }
   }
  }
 ],
 "metadata": {
  "kernelspec": {
   "name": "tf_gpu",
   "language": "python",
   "display_name": "tf_gpu"
  },
  "language_info": {
   "codemirror_mode": {
    "name": "ipython",
    "version": 2
   },
   "file_extension": ".py",
   "mimetype": "text/x-python",
   "name": "python",
   "nbconvert_exporter": "python",
   "pygments_lexer": "ipython2",
   "version": "2.7.6"
  }
 },
 "nbformat": 4,
 "nbformat_minor": 0
}