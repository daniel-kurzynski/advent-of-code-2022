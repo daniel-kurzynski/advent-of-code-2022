{
 "cells": [
  {
   "cell_type": "code",
   "execution_count": 1,
   "metadata": {
    "collapsed": true,
    "pycharm": {
     "name": "#%%\n"
    }
   },
   "outputs": [],
   "source": [
    "from aocd import get_data, submit\n",
    "from functools import cmp_to_key\n",
    "from itertools import chain\n",
    "import numpy as np\n",
    "import json"
   ]
  },
  {
   "cell_type": "code",
   "execution_count": 2,
   "outputs": [],
   "source": [
    "example_data = \"[1,1,3,1,1]\\n[1,1,5,1,1]\\n\\n[[1],[2,3,4]]\\n[[1],4]\\n\\n[9]\\n[[8,7,6]]\\n\\n[[4,4],4,4]\\n[[4,4],4,4,4]\\n\\n[7,7,7,7]\\n[7,7,7]\\n\\n[]\\n[3]\\n\\n[[[]]]\\n[[]]\\n\\n[1,[2,[3,[4,[5,6,7]]]],8,9]\\n[1,[2,[3,[4,[5,6,0]]]],8,9]\"\n",
    "real_data = get_data(day=13, year=2022)"
   ],
   "metadata": {
    "collapsed": false,
    "pycharm": {
     "name": "#%%\n"
    }
   }
  },
  {
   "cell_type": "code",
   "execution_count": 3,
   "outputs": [],
   "source": [
    "pairs = [[json.loads(y) for y in x.splitlines()] for x in real_data.split(\"\\n\\n\")]"
   ],
   "metadata": {
    "collapsed": false,
    "pycharm": {
     "name": "#%%\n"
    }
   }
  },
  {
   "cell_type": "code",
   "execution_count": 4,
   "outputs": [],
   "source": [
    "def compare(left, right):\n",
    "    if type(left) == type(right) == int:\n",
    "        return -1 if left<right else 1 if left>right else 0\n",
    "\n",
    "    left = [left] if type(left) == int else left\n",
    "    right = [right] if type(right) == int else right\n",
    "\n",
    "    for i in range(len(left)):\n",
    "        if i >= len(right):\n",
    "            return 1\n",
    "        result = compare(left[i], right[i])\n",
    "        if result != 0:\n",
    "            return result\n",
    "\n",
    "    return -1 if len(left)<len(right) else 0"
   ],
   "metadata": {
    "collapsed": false,
    "pycharm": {
     "name": "#%%\n"
    }
   }
  },
  {
   "cell_type": "code",
   "execution_count": 5,
   "outputs": [
    {
     "name": "stdout",
     "output_type": "stream",
     "text": [
      "Sum of indices of pairs in the right order: 6484\n"
     ]
    }
   ],
   "source": [
    "sum_index = 0\n",
    "for index in range(len(pairs)):\n",
    "    left,right = pairs[index]\n",
    "    if compare(left, right) == -1 :\n",
    "        sum_index = sum_index + index + 1\n",
    "print(f\"Sum of indices of pairs in the right order: {sum_index}\")"
   ],
   "metadata": {
    "collapsed": false,
    "pycharm": {
     "name": "#%%\n"
    }
   }
  },
  {
   "cell_type": "code",
   "execution_count": 6,
   "outputs": [
    {
     "name": "stdout",
     "output_type": "stream",
     "text": [
      "Product of indices of distress signal : 19305\n"
     ]
    }
   ],
   "source": [
    "packets = list(chain(*pairs))\n",
    "packets.append([[2]])\n",
    "packets.append([[6]])\n",
    "sorted_packets = sorted(packets, key=cmp_to_key(compare))\n",
    "print(f\"Product of indices of distress signal : {np.prod([i+1 for i,v in enumerate(sorted_packets) if v == [[2]] or v == [[6]]])}\")"
   ],
   "metadata": {
    "collapsed": false,
    "pycharm": {
     "name": "#%%\n"
    }
   }
  },
  {
   "cell_type": "code",
   "execution_count": null,
   "outputs": [],
   "source": [],
   "metadata": {
    "collapsed": false,
    "pycharm": {
     "name": "#%%\n"
    }
   }
  }
 ],
 "metadata": {
  "kernelspec": {
   "name": "tf_gpu",
   "language": "python",
   "display_name": "tf_gpu"
  },
  "language_info": {
   "codemirror_mode": {
    "name": "ipython",
    "version": 2
   },
   "file_extension": ".py",
   "mimetype": "text/x-python",
   "name": "python",
   "nbconvert_exporter": "python",
   "pygments_lexer": "ipython2",
   "version": "2.7.6"
  }
 },
 "nbformat": 4,
 "nbformat_minor": 0
}