{
 "cells": [
  {
   "cell_type": "code",
   "execution_count": 1,
   "outputs": [],
   "source": [
    "from aocd import get_data, submit\n",
    "from operator import itemgetter\n",
    "import numpy as np\n",
    "from itertools import chain"
   ],
   "metadata": {
    "collapsed": false,
    "pycharm": {
     "name": "#%%\n"
    }
   }
  },
  {
   "cell_type": "code",
   "execution_count": 2,
   "outputs": [],
   "source": [
    "example_data = \"498,4 -> 498,6 -> 496,6\\n503,4 -> 502,4 -> 502,9 -> 494,9\"\n",
    "real_data = get_data(day=14, year=2022)"
   ],
   "metadata": {
    "collapsed": false,
    "pycharm": {
     "name": "#%%\n"
    }
   }
  },
  {
   "cell_type": "code",
   "execution_count": 3,
   "outputs": [],
   "source": [
    "def create_simulation_environment(input, bottom=False):\n",
    "    rocks = [[list(map(int,coordinate.split(\",\"))) for coordinate in line.split(\" -> \")] for line in input.splitlines()]\n",
    "    points = list(chain(*rocks)) + [[500,0]]\n",
    "    min_x = min(points, key=itemgetter(1))[1]\n",
    "    min_y = min(points, key=itemgetter(0))[0]\n",
    "    max_x = max(points, key=itemgetter(1))[1]\n",
    "    max_y = max(points, key=itemgetter(0))[0]\n",
    "\n",
    "    height = max_x-min_x+1+2\n",
    "    width =  max(height, 500 - min_y) + max(height, max_y - 500) + 4\n",
    "    offset_y = 500 - max(height, 500 - min_y)\n",
    "    offset_x = min_x\n",
    "\n",
    "    grid = np.full((height, width), 0, dtype=int)\n",
    "    start = np.array([0-offset_x, 500-offset_y])\n",
    "\n",
    "    for rock in rocks:\n",
    "        for i in range(len(rock)-1):\n",
    "            point, point_next = np.array(sorted([rock[i], rock[i+1]]))-[offset_y, offset_x]\n",
    "            grid[point[1]:point_next[1]+1,point[0]:point_next[0]+1] = 1\n",
    "\n",
    "    if bottom:\n",
    "      grid[-1] = 1\n",
    "\n",
    "    return grid, start"
   ],
   "metadata": {
    "collapsed": false,
    "pycharm": {
     "name": "#%%\n"
    }
   }
  },
  {
   "cell_type": "code",
   "execution_count": 4,
   "outputs": [],
   "source": [
    "def simulate(grid, start):\n",
    "    rounds = 0\n",
    "    while True:\n",
    "        position = start\n",
    "        while True:\n",
    "            moved = False\n",
    "            for motion in [[1, 0], [1, -1], [1, 1]]:\n",
    "                test_position = position + motion\n",
    "                if not (0 <= test_position[0] <= grid.shape[0]-1 and 0 <= test_position[1] <= grid.shape[1]-1):\n",
    "                    return rounds\n",
    "\n",
    "                if grid[tuple(test_position)] == 0:\n",
    "                    position = test_position\n",
    "                    moved = True\n",
    "                    break\n",
    "\n",
    "            if not moved:\n",
    "                grid[tuple(position)] = 1\n",
    "                rounds = rounds + 1\n",
    "                if tuple(position) == tuple(start):\n",
    "                    return rounds\n",
    "                break"
   ],
   "metadata": {
    "collapsed": false,
    "pycharm": {
     "name": "#%%\n"
    }
   }
  },
  {
   "cell_type": "code",
   "execution_count": 5,
   "outputs": [
    {
     "name": "stdout",
     "output_type": "stream",
     "text": [
      "Number of rounds until sand leaves the grid: 779\n",
      "Number of rounds until sand stacked up: 27426\n"
     ]
    }
   ],
   "source": [
    "grid_1,start_1 = create_simulation_environment(real_data, False)\n",
    "print(f\"Number of rounds until sand leaves the grid: {simulate(grid_1, start_1)}\")\n",
    "\n",
    "grid_2,start_2 = create_simulation_environment(real_data, True)\n",
    "print(f\"Number of rounds until sand stacked up: {simulate(grid_2, start_2)}\")"
   ],
   "metadata": {
    "collapsed": false,
    "pycharm": {
     "name": "#%%\n"
    }
   }
  }
 ],
 "metadata": {
  "kernelspec": {
   "name": "tf_gpu",
   "language": "python",
   "display_name": "tf_gpu"
  },
  "language_info": {
   "codemirror_mode": {
    "name": "ipython",
    "version": 2
   },
   "file_extension": ".py",
   "mimetype": "text/x-python",
   "name": "python",
   "nbconvert_exporter": "python",
   "pygments_lexer": "ipython2",
   "version": "2.7.6"
  }
 },
 "nbformat": 4,
 "nbformat_minor": 0
}