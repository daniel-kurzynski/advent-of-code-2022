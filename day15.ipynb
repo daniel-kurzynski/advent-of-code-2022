{
 "cells": [
  {
   "cell_type": "code",
   "execution_count": 2,
   "outputs": [],
   "source": [
    "from aocd import get_data, submit\n",
    "from operator import itemgetter\n",
    "import re"
   ],
   "metadata": {
    "collapsed": false,
    "pycharm": {
     "name": "#%%\n"
    }
   }
  },
  {
   "cell_type": "code",
   "execution_count": 3,
   "outputs": [],
   "source": [
    "example_data = \"Sensor at x=2, y=18: closest beacon is at x=-2, y=15\\nSensor at x=9, y=16: closest beacon is at x=10, y=16\\nSensor at x=13, y=2: closest beacon is at x=15, y=3\\nSensor at x=12, y=14: closest beacon is at x=10, y=16\\nSensor at x=10, y=20: closest beacon is at x=10, y=16\\nSensor at x=14, y=17: closest beacon is at x=10, y=16\\nSensor at x=8, y=7: closest beacon is at x=2, y=10\\nSensor at x=2, y=0: closest beacon is at x=2, y=10\\nSensor at x=0, y=11: closest beacon is at x=2, y=10\\nSensor at x=20, y=14: closest beacon is at x=25, y=17\\nSensor at x=17, y=20: closest beacon is at x=21, y=22\\nSensor at x=16, y=7: closest beacon is at x=15, y=3\\nSensor at x=14, y=3: closest beacon is at x=15, y=3\\nSensor at x=20, y=1: closest beacon is at x=15, y=3\"\n",
    "real_data = get_data(day=15, year=2022)"
   ],
   "metadata": {
    "collapsed": false,
    "pycharm": {
     "name": "#%%\n"
    }
   }
  },
  {
   "cell_type": "code",
   "execution_count": 4,
   "outputs": [],
   "source": [
    "pattern_text = r'Sensor at x=(-?\\d+), y=(-?\\d+): closest beacon is at x=(-?\\d+), y=(-?\\d+)'\n",
    "pattern = re.compile(pattern_text)\n",
    "pairs = [list(map(int, pattern.match(line).groups())) for line in real_data.splitlines()]"
   ],
   "metadata": {
    "collapsed": false,
    "pycharm": {
     "name": "#%%\n"
    }
   }
  },
  {
   "cell_type": "code",
   "execution_count": 5,
   "outputs": [],
   "source": [
    "def manhattan_distance(x1, y1, x2, y2):\n",
    "    return abs(x1-x2) + abs(y1-y2)"
   ],
   "metadata": {
    "collapsed": false,
    "pycharm": {
     "name": "#%%\n"
    }
   }
  },
  {
   "cell_type": "code",
   "execution_count": 6,
   "outputs": [],
   "source": [
    "def find_no_beacons_for_pair(pair, row, exclude_pair, minmax):\n",
    "    sx, sy, bx, by = pair\n",
    "    distance = manhattan_distance(sx, sy, bx, by)\n",
    "    row_distance = abs(sy - row)\n",
    "\n",
    "\n",
    "    if row_distance > distance:\n",
    "        return []\n",
    "\n",
    "    if row_distance == distance:\n",
    "        if exclude_pair and by == row:\n",
    "          return []\n",
    "        else:\n",
    "            if minmax and minmax[0] <= sx <= minmax[1]:\n",
    "                return [sx,sx]\n",
    "            else:\n",
    "                return []\n",
    "\n",
    "    interval = [sx - (distance - row_distance), sx + (distance - row_distance)]\n",
    "\n",
    "    if exclude_pair and by == row:\n",
    "      if bx < sx:\n",
    "          interval = [interval[0]+1, interval[1]]\n",
    "      else:\n",
    "          interval =  [interval[0], interval[1]-1]\n",
    "\n",
    "    if minmax:\n",
    "        interval = [max(minmax[0], interval[0]), min(minmax[1], interval[1])]\n",
    "\n",
    "    return interval"
   ],
   "metadata": {
    "collapsed": false,
    "pycharm": {
     "name": "#%%\n"
    }
   }
  },
  {
   "cell_type": "code",
   "execution_count": 7,
   "outputs": [
    {
     "name": "stdout",
     "output_type": "stream",
     "text": [
      "Number of positions in row 2000000: 4793062\n"
     ]
    }
   ],
   "source": [
    "def merge(intervals):\n",
    "    merged_intervals = []\n",
    "    sorted_intervals = sorted(intervals, key=itemgetter(0))\n",
    "    current_interval = sorted_intervals[0]\n",
    "    for index in range(1, len(sorted_intervals)):\n",
    "        next_interval = sorted_intervals[index]\n",
    "\n",
    "        if current_interval[1] >= next_interval[0]:\n",
    "            current_interval[1] = max(next_interval[1], current_interval[1])\n",
    "        else:\n",
    "            merged_intervals.append(current_interval)\n",
    "            current_interval = next_interval\n",
    "\n",
    "    merged_intervals.append(current_interval)\n",
    "    return merged_intervals\n",
    "\n",
    "def find_no_beacons(pairs, row, exclude_pair, minmax):\n",
    "    intervals = []\n",
    "    for pair in pairs:\n",
    "        interval = find_no_beacons_for_pair(pair, row, exclude_pair, minmax)\n",
    "        if len(interval) > 0:\n",
    "            intervals.append(interval)\n",
    "\n",
    "    return merge(intervals)\n",
    "\n",
    "print(f\"Number of positions in row 2000000: {sum([abs(interval[1]-interval[0]+1) for interval in find_no_beacons(pairs, 2000000, True, None)])}\")"
   ],
   "metadata": {
    "collapsed": false,
    "pycharm": {
     "name": "#%%\n"
    }
   }
  },
  {
   "cell_type": "code",
   "execution_count": null,
   "outputs": [],
   "source": [
    "%%time\n",
    "def find(max_x = 20):\n",
    "    for row in range(0, max_x+1):\n",
    "        intervals = find_no_beacons(pairs, row, False, (0, max_x))\n",
    "\n",
    "        if len(intervals) > 1:\n",
    "            return row, intervals[0][1]+1\n",
    "\n",
    "        elif intervals[0][0] > 0:\n",
    "            return row, intervals[0][0]\n",
    "\n",
    "        elif intervals[0][1] < max_x:\n",
    "            return row, intervals[0][1]\n",
    "\n",
    "max_size = 4000000\n",
    "x,y = find(max_size)\n",
    "print(f\"Tuning frequency: {y*4000000 + x}\")"
   ],
   "metadata": {
    "collapsed": false,
    "pycharm": {
     "name": "#%%\n",
     "is_executing": true
    }
   }
  },
  {
   "cell_type": "code",
   "execution_count": null,
   "outputs": [],
   "source": [],
   "metadata": {
    "collapsed": false,
    "pycharm": {
     "name": "#%%\n"
    }
   }
  }
 ],
 "metadata": {
  "kernelspec": {
   "name": "tf_gpu",
   "language": "python",
   "display_name": "tf_gpu"
  },
  "language_info": {
   "codemirror_mode": {
    "name": "ipython",
    "version": 2
   },
   "file_extension": ".py",
   "mimetype": "text/x-python",
   "name": "python",
   "nbconvert_exporter": "python",
   "pygments_lexer": "ipython2",
   "version": "2.7.6"
  }
 },
 "nbformat": 4,
 "nbformat_minor": 0
}