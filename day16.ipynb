{
 "cells": [
  {
   "cell_type": "markdown",
   "source": [],
   "metadata": {
    "collapsed": false,
    "pycharm": {
     "name": "#%% md\n"
    }
   }
  },
  {
   "cell_type": "code",
   "execution_count": 1,
   "outputs": [],
   "source": [
    "from aocd import get_data, submit\n",
    "from operator import itemgetter\n",
    "import re"
   ],
   "metadata": {
    "collapsed": false,
    "pycharm": {
     "name": "#%%\n"
    }
   }
  },
  {
   "cell_type": "code",
   "execution_count": 2,
   "outputs": [],
   "source": [
    "example_data = \"Valve AA has flow rate=0; tunnels lead to valves DD, II, BB\\nValve BB has flow rate=13; tunnels lead to valves CC, AA\\nValve CC has flow rate=2; tunnels lead to valves DD, BB\\nValve DD has flow rate=20; tunnels lead to valves CC, AA, EE\\nValve EE has flow rate=3; tunnels lead to valves FF, DD\\nValve FF has flow rate=0; tunnels lead to valves EE, GG\\nValve GG has flow rate=0; tunnels lead to valves FF, HH\\nValve HH has flow rate=22; tunnel leads to valve GG\\nValve II has flow rate=0; tunnels lead to valves AA, JJ\\nValve JJ has flow rate=21; tunnel leads to valve II\"\n",
    "real_data = get_data(day=16, year=2022)"
   ],
   "metadata": {
    "collapsed": false,
    "pycharm": {
     "name": "#%%\n"
    }
   }
  },
  {
   "cell_type": "code",
   "execution_count": 3,
   "outputs": [],
   "source": [
    "class Valve:\n",
    "    def __init__(self, name, rate, tunnels):\n",
    "        self.name = name\n",
    "        self.rate = rate\n",
    "        self.tunnels = tunnels\n",
    "        self.distance_map = {}\n",
    "\n",
    "    def set_distance_map(self, valves):\n",
    "        self.distance_map = {self.name: 0}\n",
    "\n",
    "        visited = set()\n",
    "        queue = [self.name]\n",
    "        visited.add(self.name)\n",
    "\n",
    "        while len(queue)>0:\n",
    "            current = queue.pop(0)\n",
    "            for next_valve in valves[current].tunnels:\n",
    "                if next_valve not in visited:\n",
    "                    self.distance_map[next_valve] = self.distance_map[current]+1\n",
    "                    visited.add(next_valve)\n",
    "                    queue.append(next_valve)"
   ],
   "metadata": {
    "collapsed": false,
    "pycharm": {
     "name": "#%%\n"
    }
   }
  },
  {
   "cell_type": "code",
   "execution_count": 4,
   "outputs": [],
   "source": [
    "valves = dict()\n",
    "\n",
    "pattern_text = r'^Valve ([A-Z]+) has flow rate=(\\d+); tunnels? leads? to valves? (.*)$'\n",
    "pattern = re.compile(pattern_text)\n",
    "\n",
    "for name, rate, tunnels in [pattern.match(line).groups() for line in real_data.splitlines()]:\n",
    "    valves[name] = Valve(name, int(rate), tunnels.split(\", \"))\n",
    "\n",
    "for valve in valves.values():\n",
    "    valve.set_distance_map(valves)\n",
    "\n",
    "relevant_valves = [valve.name for valve in sorted(valves.values(), key=lambda valve: valve.rate, reverse=True) if valve.rate > 0]\n",
    "valves_mapping = {valve:1 << i for i,valve in enumerate(relevant_valves+['AA'])}"
   ],
   "metadata": {
    "collapsed": false,
    "pycharm": {
     "name": "#%%\n"
    }
   }
  },
  {
   "cell_type": "code",
   "execution_count": 5,
   "outputs": [
    {
     "name": "stdout",
     "output_type": "stream",
     "text": [
      "Maximum pressure : 1871\n",
      "Maximum pressure with elephant: 2416\n",
      "CPU times: total: 3.73 s\n",
      "Wall time: 3.77 s\n"
     ]
    }
   ],
   "source": [
    "%%time\n",
    "\n",
    "all_valves_open = (1 << (len(relevant_valves)+1)) - 1\n",
    "\n",
    "def find_max_rate(max_minutes=30):\n",
    "    max_sum_rate = dict()\n",
    "    states = [(\"AA\", 0, 0, 0, max_minutes)]\n",
    "\n",
    "    while len(states)>0:\n",
    "        current_valve, open_valves, rate, sum_rate, remaining_minutes = states.pop(0)\n",
    "\n",
    "        max_sum_rate[open_valves] = max(max_sum_rate.get(open_valves, 0), sum_rate)\n",
    "\n",
    "        if open_valves == all_valves_open:\n",
    "            continue\n",
    "        else:\n",
    "            for valve in relevant_valves:\n",
    "                if valves_mapping[valve] & open_valves:\n",
    "                    continue\n",
    "\n",
    "                next_position = valve\n",
    "                next_open_valves = open_valves | valves_mapping[valve]\n",
    "                next_rate = rate + valves[valve].rate\n",
    "                next_remaining_minutes = remaining_minutes - valves[current_valve].distance_map[valve] - 1\n",
    "                next_sum_rate = sum_rate + valves[valve].rate * next_remaining_minutes\n",
    "\n",
    "                if next_remaining_minutes > 0:\n",
    "                    states.append((next_position, next_open_valves, next_rate, next_sum_rate, next_remaining_minutes))\n",
    "\n",
    "    return max_sum_rate\n",
    "\n",
    "print(f\"Maximum pressure : {max(find_max_rate(30).values())}\")\n",
    "\n",
    "rates_by_open_valves = find_max_rate(26)\n",
    "print(f\"Maximum pressure with elephant: {max([sum_1 + sum_2 for open_vales_1, sum_1 in rates_by_open_valves.items() for open_vales_2, sum_2 in rates_by_open_valves.items() if open_vales_1 & open_vales_2 == 0])}\")"
   ],
   "metadata": {
    "collapsed": false,
    "pycharm": {
     "name": "#%%\n"
    }
   }
  },
  {
   "cell_type": "code",
   "execution_count": null,
   "outputs": [],
   "source": [],
   "metadata": {
    "collapsed": false,
    "pycharm": {
     "name": "#%%\n"
    }
   }
  }
 ],
 "metadata": {
  "kernelspec": {
   "name": "tf_gpu",
   "language": "python",
   "display_name": "tf_gpu"
  },
  "language_info": {
   "codemirror_mode": {
    "name": "ipython",
    "version": 2
   },
   "file_extension": ".py",
   "mimetype": "text/x-python",
   "name": "python",
   "nbconvert_exporter": "python",
   "pygments_lexer": "ipython2",
   "version": "2.7.6"
  }
 },
 "nbformat": 4,
 "nbformat_minor": 0
}