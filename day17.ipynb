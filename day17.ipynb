{
 "cells": [
  {
   "cell_type": "markdown",
   "source": [],
   "metadata": {
    "collapsed": false,
    "pycharm": {
     "name": "#%% md\n"
    }
   }
  },
  {
   "cell_type": "markdown",
   "source": [],
   "metadata": {
    "collapsed": false,
    "pycharm": {
     "name": "#%% md\n"
    }
   }
  },
  {
   "cell_type": "code",
   "execution_count": 1,
   "outputs": [],
   "source": [
    "from aocd import get_data, submit\n",
    "from operator import itemgetter"
   ],
   "metadata": {
    "collapsed": false,
    "pycharm": {
     "name": "#%%\n"
    }
   }
  },
  {
   "cell_type": "code",
   "execution_count": 2,
   "outputs": [],
   "source": [
    "example_data = \">>><<><>><<<>><>>><<<>>><<<><<<>><>><<>>\"\n",
    "real_data = get_data(day=17, year=2022)"
   ],
   "metadata": {
    "collapsed": false,
    "pycharm": {
     "name": "#%%\n"
    }
   }
  },
  {
   "cell_type": "code",
   "execution_count": 3,
   "outputs": [],
   "source": [
    "state_mapping = [1 << i for i in range(7)]\n",
    "\n",
    "\n",
    "def is_blocked(row, column, states, cropped):\n",
    "    if len(states) - 1 < row - cropped:\n",
    "        return False\n",
    "    return states[row - cropped] & state_mapping[column]\n",
    "\n",
    "\n",
    "def crop_states(states):\n",
    "    last = len(states) - 1\n",
    "    for i in range(1, len(states)):\n",
    "        if states[last - i] | states[last - i + 1] == (1 << 7) - 1:\n",
    "            return last - i, states[last - i:]\n",
    "\n",
    "    return 0, states\n",
    "\n",
    "\n",
    "class Rock:\n",
    "    def __init__(self, position, elements):\n",
    "        self.position = position\n",
    "        self.elements = elements\n",
    "        self.max_right = max(elements, key=itemgetter(1))[1]\n",
    "        self.max_left = min(elements, key=itemgetter(1))[1]\n",
    "\n",
    "    def can_push_right(self, states, cropped):\n",
    "        if self.position[1] + self.max_right >= 6:\n",
    "            return False\n",
    "        for element in self.elements:\n",
    "            column = self.position[1] + element[1]\n",
    "            row = self.position[0] + element[0]\n",
    "\n",
    "            if is_blocked(row, column + 1, states, cropped):\n",
    "                return False\n",
    "\n",
    "        return True\n",
    "\n",
    "    def can_push_left(self, states, cropped):\n",
    "        if self.position[1] + self.max_left <= 0:\n",
    "            return False\n",
    "\n",
    "        for element in self.elements:\n",
    "            column = self.position[1] + element[1]\n",
    "            row = self.position[0] + element[0]\n",
    "            if is_blocked(row, column - 1, states, cropped):\n",
    "                return False\n",
    "        return True\n",
    "\n",
    "    def can_push_down(self, states, cropped):\n",
    "        for element in self.elements:\n",
    "            column = self.position[1] + element[1]\n",
    "            row = self.position[0] + element[0]\n",
    "\n",
    "            if row <= 0 or is_blocked(row - 1, column, states, cropped):\n",
    "                return False\n",
    "\n",
    "        return True\n",
    "\n",
    "    def push_right(self):\n",
    "        self.position = [self.position[0], self.position[1] + 1]\n",
    "\n",
    "    def push_left(self):\n",
    "        self.position = [self.position[0], self.position[1] - 1]\n",
    "\n",
    "    def push_down(self):\n",
    "        self.position = [self.position[0] - 1, self.position[1]]\n",
    "\n",
    "    def update_states(self, states, cropped):\n",
    "        for element in self.elements:\n",
    "            column = self.position[1] + element[1]\n",
    "            row = self.position[0] + element[0]\n",
    "\n",
    "            while len(states) - 1 < row - cropped:\n",
    "                states.append(0)\n",
    "\n",
    "            states[row - cropped] = states[row - cropped] | state_mapping[column]\n",
    "\n",
    "        return states\n"
   ],
   "metadata": {
    "collapsed": false,
    "pycharm": {
     "name": "#%%\n"
    }
   }
  },
  {
   "cell_type": "code",
   "execution_count": 4,
   "outputs": [],
   "source": [
    "def create_rock(row, iteration):\n",
    "    if iteration % 5 == 0:\n",
    "        return Rock([row + 4, 2], [[0, 0], [0, 1], [0, 2], [0, 3]])\n",
    "\n",
    "    elif iteration % 5 == 1:\n",
    "        return Rock([row + 4, 3], [[0, 0], [1, -1], [1, 0], [1, 1], [2, 0]])\n",
    "\n",
    "    elif iteration % 5 == 2:\n",
    "        return Rock([row + 4, 2], [[0, 0], [0, 1], [0, 2], [1, 2], [2, 2]])\n",
    "\n",
    "    elif iteration % 5 == 3:\n",
    "        return Rock([row + 4, 2], [[0, 0], [1, 0], [2, 0], [3, 0]])\n",
    "\n",
    "    elif iteration % 5 == 4:\n",
    "        return Rock([row + 4, 2], [[0, 0], [0, 1], [1, 0], [1, 1]])"
   ],
   "metadata": {
    "collapsed": false,
    "pycharm": {
     "name": "#%%\n"
    }
   }
  },
  {
   "cell_type": "code",
   "execution_count": 5,
   "outputs": [
    {
     "name": "stdout",
     "output_type": "stream",
     "text": [
      "Height after 2022 rounds: 3191\n"
     ]
    }
   ],
   "source": [
    "def visualize(states, rock, iteration):\n",
    "    print(\"---------------\", iteration)\n",
    "    for state in reversed(states):\n",
    "        text_state = f\"{state:07b}\"[::-1]\n",
    "        text_state = text_state.replace(\"0\", \".\")\n",
    "        print(text_state)\n",
    "\n",
    "\n",
    "def simulate(data, iterations=2022):\n",
    "    privious_states = dict()\n",
    "    states = []\n",
    "    movement_index = 0\n",
    "    cropped = 0\n",
    "\n",
    "    detect_cycle = True\n",
    "\n",
    "    iteration = 0\n",
    "    while iteration < iterations:\n",
    "\n",
    "        if iteration % 5 == 0 and detect_cycle:\n",
    "            for i in privious_states:\n",
    "                if privious_states[i][1] == states and privious_states[i][2] == movement_index % len(data):\n",
    "                    cycle_length = iteration - i\n",
    "                    added_rows = cropped - privious_states[i][0]\n",
    "                    add_cycles = ((iterations - iteration) // cycle_length)\n",
    "\n",
    "                    if True:\n",
    "                        iteration = iteration + add_cycles * cycle_length\n",
    "                        cropped = cropped + add_cycles * added_rows\n",
    "                        detect_cycle = False\n",
    "                        break\n",
    "\n",
    "        if detect_cycle:\n",
    "            privious_states[iteration] = (cropped, states.copy(), movement_index % len(data))\n",
    "\n",
    "        rock = create_rock(len(states) - 1 + cropped, iteration)\n",
    "\n",
    "        while True:\n",
    "            movement = data[movement_index % len(data)]\n",
    "            movement_index = movement_index + 1\n",
    "\n",
    "            if movement == \"<\" and rock.can_push_left(states, cropped):\n",
    "                rock.push_left()\n",
    "            elif movement == \">\" and rock.can_push_right(states, cropped):\n",
    "                rock.push_right()\n",
    "\n",
    "            if rock.can_push_down(states, cropped):\n",
    "                rock.push_down()\n",
    "            else:\n",
    "                states = rock.update_states(states, cropped)\n",
    "                add_cropped, states = crop_states(states)\n",
    "\n",
    "                cropped = cropped + add_cropped\n",
    "\n",
    "                # visualize(states, rock, iteration)\n",
    "                break\n",
    "\n",
    "        iteration = iteration + 1\n",
    "\n",
    "    return len(states) + cropped\n",
    "\n",
    "\n",
    "print(f\"Height after 2022 rounds: {simulate(real_data, 2022)}\")"
   ],
   "metadata": {
    "collapsed": false,
    "pycharm": {
     "name": "#%%\n"
    }
   }
  },
  {
   "cell_type": "code",
   "execution_count": 6,
   "outputs": [
    {
     "name": "stdout",
     "output_type": "stream",
     "text": [
      "Height after 1000000000000 rounds: 1572093023267\n"
     ]
    }
   ],
   "source": [
    "print(f\"Height after 1000000000000 rounds: {simulate(real_data, 1000000000000)}\")"
   ],
   "metadata": {
    "collapsed": false,
    "pycharm": {
     "name": "#%%\n"
    }
   }
  },
  {
   "cell_type": "code",
   "execution_count": null,
   "outputs": [],
   "source": [],
   "metadata": {
    "collapsed": false,
    "pycharm": {
     "name": "#%%\n"
    }
   }
  }
 ],
 "metadata": {
  "kernelspec": {
   "name": "tf_gpu",
   "language": "python",
   "display_name": "tf_gpu"
  },
  "language_info": {
   "codemirror_mode": {
    "name": "ipython",
    "version": 2
   },
   "file_extension": ".py",
   "mimetype": "text/x-python",
   "name": "python",
   "nbconvert_exporter": "python",
   "pygments_lexer": "ipython2",
   "version": "2.7.6"
  }
 },
 "nbformat": 4,
 "nbformat_minor": 0
}