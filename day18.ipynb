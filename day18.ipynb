{
 "cells": [
  {
   "cell_type": "markdown",
   "source": [],
   "metadata": {
    "collapsed": false,
    "pycharm": {
     "name": "#%% md\n"
    }
   }
  },
  {
   "cell_type": "code",
   "execution_count": 1,
   "outputs": [],
   "source": [
    "from aocd import get_data, submit\n",
    "from operator import itemgetter\n",
    "import re\n",
    "import collections"
   ],
   "metadata": {
    "collapsed": false,
    "pycharm": {
     "name": "#%%\n"
    }
   }
  },
  {
   "cell_type": "code",
   "execution_count": 2,
   "outputs": [],
   "source": [
    "example_data = \"2,2,2\\n1,2,2\\n3,2,2\\n2,1,2\\n2,3,2\\n2,2,1\\n2,2,3\\n2,2,4\\n2,2,6\\n1,2,5\\n3,2,5\\n2,1,5\\n2,3,5\"\n",
    "real_data = get_data(day=18, year=2022)"
   ],
   "metadata": {
    "collapsed": false,
    "pycharm": {
     "name": "#%%\n"
    }
   }
  },
  {
   "cell_type": "code",
   "execution_count": 3,
   "outputs": [],
   "source": [
    "cubes = set([tuple(map(int,cube.split(\",\"))) for cube in real_data.splitlines()])"
   ],
   "metadata": {
    "collapsed": false,
    "pycharm": {
     "name": "#%%\n"
    }
   }
  },
  {
   "cell_type": "code",
   "execution_count": 4,
   "outputs": [
    {
     "name": "stdout",
     "output_type": "stream",
     "text": [
      "Surface area: 4340\n"
     ]
    }
   ],
   "source": [
    "hidden_faces = sum([1 for x1,y1,z1 in cubes for x2,y2,z2 in cubes if (abs(x1-x2) == 1 and y1==y2 and z1==z2) or (x1==x2 and abs(y1-y2) == 1 and z1==z2) or (x1==x2 and y1==y2 and abs(z1-z2) == 1)])\n",
    "print(f\"Surface area: {len(cubes) * 6 - hidden_faces}\")"
   ],
   "metadata": {
    "collapsed": false,
    "pycharm": {
     "name": "#%%\n"
    }
   }
  },
  {
   "cell_type": "code",
   "execution_count": 5,
   "outputs": [
    {
     "name": "stdout",
     "output_type": "stream",
     "text": [
      "Exterior surface area: 2468\n"
     ]
    }
   ],
   "source": [
    "def neighbors(current):\n",
    "    return [(current[0]+dx, current[1]+dy, current[2]+dz) for dx, dy, dz in [(-1,0,0), (1,0,0),(0,-1,0),(0,1,0),(0,0,-1),(0,0,1)]]\n",
    "\n",
    "min_x = min(cubes, key=itemgetter(0))[0]-1\n",
    "max_x = max(cubes, key=itemgetter(0))[0]+1\n",
    "min_y = min(cubes, key=itemgetter(1))[1]-1\n",
    "max_y = max(cubes, key=itemgetter(1))[1]+1\n",
    "min_z = min(cubes, key=itemgetter(2))[2]-1\n",
    "max_z = max(cubes, key=itemgetter(2))[2]+1\n",
    "\n",
    "visited = set(cubes)\n",
    "queue = [(min_x, min_y, min_z)]\n",
    "\n",
    "surface_area = 0\n",
    "\n",
    "while len(queue)>0:\n",
    "    current = queue.pop(0)\n",
    "\n",
    "    for next in neighbors(current):\n",
    "        if min_x <= next[0] <= max_x and min_y <= next[1] <= max_y and min_z <= next[2] <= max_z:\n",
    "\n",
    "            if next in cubes:\n",
    "                surface_area = surface_area + 1\n",
    "\n",
    "            if next in visited: continue\n",
    "\n",
    "            visited.add(next)\n",
    "            queue.append(next)\n",
    "\n",
    "print(f\"Exterior surface area: {surface_area}\")"
   ],
   "metadata": {
    "collapsed": false,
    "pycharm": {
     "name": "#%%\n"
    }
   }
  }
 ],
 "metadata": {
  "kernelspec": {
   "name": "tf_gpu",
   "language": "python",
   "display_name": "tf_gpu"
  },
  "language_info": {
   "codemirror_mode": {
    "name": "ipython",
    "version": 2
   },
   "file_extension": ".py",
   "mimetype": "text/x-python",
   "name": "python",
   "nbconvert_exporter": "python",
   "pygments_lexer": "ipython2",
   "version": "2.7.6"
  }
 },
 "nbformat": 4,
 "nbformat_minor": 0
}