{
 "cells": [
  {
   "cell_type": "code",
   "execution_count": 7,
   "metadata": {
    "collapsed": true,
    "pycharm": {
     "name": "#%%\n"
    }
   },
   "outputs": [],
   "source": [
    "from aocd import get_data, submit"
   ]
  },
  {
   "cell_type": "code",
   "execution_count": 8,
   "outputs": [],
   "source": [
    "rounds = [x.split(\" \") for x in get_data(day=2, year=2022).splitlines()]"
   ],
   "metadata": {
    "collapsed": false,
    "pycharm": {
     "name": "#%%\n"
    }
   }
  },
  {
   "cell_type": "code",
   "execution_count": 9,
   "outputs": [],
   "source": [
    "rules = {\"A\": [\"B\", \"A\", \"C\"], \"B\": [\"C\", \"B\", \"A\"], \"C\": [\"A\", \"C\", \"B\"]} #Meaning of list items: 1 wins, 2 draw, 3 loses\n",
    "shape_points = {\"A\": 1, \"B\": 2, \"C\": 3}"
   ],
   "metadata": {
    "collapsed": false,
    "pycharm": {
     "name": "#%%\n"
    }
   }
  },
  {
   "cell_type": "code",
   "execution_count": 10,
   "outputs": [
    {
     "name": "stdout",
     "output_type": "stream",
     "text": [
      "Total score 1: 17189\n"
     ]
    }
   ],
   "source": [
    "translation = {\"X\": \"A\", \"Y\": \"B\", \"Z\": \"C\"}\n",
    "def compute_my_score_1(opponent, me):\n",
    "    winning_points = 6 if rules[opponent][0] == translation[me] else 0\n",
    "    draw_points = 3 if rules[opponent][1] == translation[me] else 0\n",
    "    return shape_points[translation[me]] + winning_points + draw_points\n",
    "\n",
    "print(f\"Total score 1: {sum([compute_my_score_1(r[0], r[1]) for r in rounds])}\")"
   ],
   "metadata": {
    "collapsed": false,
    "pycharm": {
     "name": "#%%\n"
    }
   }
  },
  {
   "cell_type": "code",
   "execution_count": 11,
   "outputs": [
    {
     "name": "stdout",
     "output_type": "stream",
     "text": [
      "Total score 2: 13490\n"
     ]
    }
   ],
   "source": [
    "def compute_my_score_2(opponent, result):\n",
    "    me = rules[opponent][2] if result == \"X\" else rules[opponent][1] if result == \"Y\" else rules[opponent][0]\n",
    "    winning_points = 6 if result == \"Z\" else 0\n",
    "    draw_points = 3 if result == \"Y\" else 0\n",
    "    return shape_points[me] + winning_points + draw_points\n",
    "\n",
    "print(f\"Total score 2: {sum([compute_my_score_2(r[0], r[1]) for r in rounds])}\")"
   ],
   "metadata": {
    "collapsed": false,
    "pycharm": {
     "name": "#%%\n"
    }
   }
  }
 ],
 "metadata": {
  "kernelspec": {
   "name": "tf_gpu",
   "language": "python",
   "display_name": "tf_gpu"
  },
  "language_info": {
   "codemirror_mode": {
    "name": "ipython",
    "version": 2
   },
   "file_extension": ".py",
   "mimetype": "text/x-python",
   "name": "python",
   "nbconvert_exporter": "python",
   "pygments_lexer": "ipython2",
   "version": "2.7.6"
  }
 },
 "nbformat": 4,
 "nbformat_minor": 0
}