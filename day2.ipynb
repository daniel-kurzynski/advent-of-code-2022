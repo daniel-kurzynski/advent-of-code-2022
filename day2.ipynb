{
 "cells": [
  {
   "cell_type": "code",
   "execution_count": 12,
   "metadata": {
    "collapsed": true,
    "pycharm": {
     "name": "#%%\n"
    }
   },
   "outputs": [],
   "source": [
    "from aocd import get_data, submit"
   ]
  },
  {
   "cell_type": "code",
   "execution_count": 13,
   "outputs": [],
   "source": [
    "rounds = [x.split(\" \") for x in get_data(day=2, year=2022).splitlines()]"
   ],
   "metadata": {
    "collapsed": false,
    "pycharm": {
     "name": "#%%\n"
    }
   }
  },
  {
   "cell_type": "code",
   "execution_count": 14,
   "outputs": [],
   "source": [
    "rules = {\"A\": {\"win\": \"B\", \"draw\":\"A\", \"loss\":\"C\"}, \"B\": {\"win\":\"C\", \"draw\":\"B\", \"loss\":\"A\"}, \"C\": {\"win\":\"A\", \"draw\":\"C\", \"loss\":\"B\"}}\n",
    "shape_points = {\"A\": 1, \"B\": 2, \"C\": 3}"
   ],
   "metadata": {
    "collapsed": false,
    "pycharm": {
     "name": "#%%\n"
    }
   }
  },
  {
   "cell_type": "code",
   "execution_count": 15,
   "outputs": [
    {
     "name": "stdout",
     "output_type": "stream",
     "text": [
      "Total score 1: 17189\n"
     ]
    }
   ],
   "source": [
    "translation = {\"X\": \"A\", \"Y\": \"B\", \"Z\": \"C\"}\n",
    "def compute_my_score_1(opponent, me):\n",
    "    winning_points = 6 if rules[opponent][\"win\"] == translation[me] else 3 if rules[opponent][\"draw\"] == translation[me] else 0\n",
    "    return shape_points[translation[me]] + winning_points\n",
    "\n",
    "print(f\"Total score 1: {sum([compute_my_score_1(r[0], r[1]) for r in rounds])}\")"
   ],
   "metadata": {
    "collapsed": false,
    "pycharm": {
     "name": "#%%\n"
    }
   }
  },
  {
   "cell_type": "code",
   "execution_count": 16,
   "outputs": [
    {
     "name": "stdout",
     "output_type": "stream",
     "text": [
      "Total score 2: 13490\n"
     ]
    }
   ],
   "source": [
    "def compute_my_score_2(opponent, result):\n",
    "    me = rules[opponent][\"loss\"] if result == \"X\" else rules[opponent][\"draw\"] if result == \"Y\" else rules[opponent][\"win\"]\n",
    "    winning_points = 6 if result == \"Z\" else 3 if result == \"Y\" else 0\n",
    "    return shape_points[me] + winning_points\n",
    "\n",
    "print(f\"Total score 2: {sum([compute_my_score_2(r[0], r[1]) for r in rounds])}\")"
   ],
   "metadata": {
    "collapsed": false,
    "pycharm": {
     "name": "#%%\n"
    }
   }
  }
 ],
 "metadata": {
  "kernelspec": {
   "name": "tf_gpu",
   "language": "python",
   "display_name": "tf_gpu"
  },
  "language_info": {
   "codemirror_mode": {
    "name": "ipython",
    "version": 2
   },
   "file_extension": ".py",
   "mimetype": "text/x-python",
   "name": "python",
   "nbconvert_exporter": "python",
   "pygments_lexer": "ipython2",
   "version": "2.7.6"
  }
 },
 "nbformat": 4,
 "nbformat_minor": 0
}