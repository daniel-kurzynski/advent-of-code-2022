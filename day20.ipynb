{
 "cells": [
  {
   "cell_type": "markdown",
   "source": [],
   "metadata": {
    "collapsed": false,
    "pycharm": {
     "name": "#%% md\n"
    }
   }
  },
  {
   "cell_type": "code",
   "execution_count": 1,
   "outputs": [],
   "source": [
    "import numpy as np\n",
    "from aocd import get_data, submit\n",
    "from operator import itemgetter\n",
    "import re\n",
    "import collections"
   ],
   "metadata": {
    "collapsed": false,
    "pycharm": {
     "name": "#%%\n"
    }
   }
  },
  {
   "cell_type": "code",
   "execution_count": 2,
   "outputs": [],
   "source": [
    "example_data = \"1\\n2\\n-3\\n3\\n-2\\n0\\n4\"\n",
    "real_data = get_data(day=20, year=2022)"
   ],
   "metadata": {
    "collapsed": false,
    "pycharm": {
     "name": "#%%\n"
    }
   }
  },
  {
   "cell_type": "code",
   "execution_count": 3,
   "outputs": [
    {
     "name": "stdout",
     "output_type": "stream",
     "text": [
      "Grove coordinates part 1: 13522\n",
      "Grove coordinates part 2: 17113168880158\n"
     ]
    }
   ],
   "source": [
    "def dencrypt(data, iterations=1, multiplier=1):\n",
    "    numbers = [[int(value)*multiplier, index] for index,value in enumerate(data.splitlines())]\n",
    "    # print([value for value, index in sorted(numbers, key=itemgetter(1))])\n",
    "\n",
    "    no_of_numbers = len(numbers)\n",
    "    null = None\n",
    "\n",
    "    for i in range(iterations):\n",
    "        for number in numbers:\n",
    "            value, index = number\n",
    "            if value == 0:\n",
    "                null = number\n",
    "                # print([value for value, index in sorted(numbers, key=itemgetter(1))])\n",
    "                continue\n",
    "\n",
    "            new_index = (index + value) % (no_of_numbers - 1) # Reduced by one as one complete cycle consists of length-1 steps\n",
    "\n",
    "            if new_index <= 0:\n",
    "                 new_index=no_of_numbers-1\n",
    "\n",
    "            if new_index == index: continue\n",
    "\n",
    "            for other_number in numbers:\n",
    "                other_value, other_index = other_number\n",
    "                if new_index < index:\n",
    "                    if new_index <= other_index < index:\n",
    "                        other_number[1] = other_index + 1\n",
    "                else:\n",
    "                    if index < other_index <= new_index:\n",
    "                        other_number[1] = other_index - 1\n",
    "\n",
    "            number[1] = new_index\n",
    "\n",
    "            # print([value for value, index in sorted(numbers, key=itemgetter(1))])\n",
    "        # print([value for value, index in sorted(numbers, key=itemgetter(1))])\n",
    "\n",
    "    numbers_by_index = {number[1]: number[0] for number in numbers}\n",
    "    index_null = null[1]\n",
    "    number_1000th = numbers_by_index[(index_null + 1000) % no_of_numbers]\n",
    "    number_2000th = numbers_by_index[(index_null + 2000) % no_of_numbers]\n",
    "    number_3000th = numbers_by_index[(index_null + 3000) % no_of_numbers]\n",
    "\n",
    "    return number_1000th + number_2000th + number_3000th\n",
    "\n",
    "print(f\"Grove coordinates part 1: {dencrypt(real_data, 1, 1)}\")\n",
    "print(f\"Grove coordinates part 2: {dencrypt(real_data, 10, 811589153)}\")"
   ],
   "metadata": {
    "collapsed": false,
    "pycharm": {
     "name": "#%%\n"
    }
   }
  },
  {
   "cell_type": "code",
   "execution_count": null,
   "outputs": [],
   "source": [],
   "metadata": {
    "collapsed": false,
    "pycharm": {
     "name": "#%%\n"
    }
   }
  }
 ],
 "metadata": {
  "kernelspec": {
   "name": "tf_gpu",
   "language": "python",
   "display_name": "tf_gpu"
  },
  "language_info": {
   "codemirror_mode": {
    "name": "ipython",
    "version": 2
   },
   "file_extension": ".py",
   "mimetype": "text/x-python",
   "name": "python",
   "nbconvert_exporter": "python",
   "pygments_lexer": "ipython2",
   "version": "2.7.6"
  }
 },
 "nbformat": 4,
 "nbformat_minor": 0
}