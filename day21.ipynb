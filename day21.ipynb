{
 "cells": [
  {
   "cell_type": "markdown",
   "source": [],
   "metadata": {
    "collapsed": false,
    "pycharm": {
     "name": "#%% md\n"
    }
   }
  },
  {
   "cell_type": "code",
   "execution_count": 1,
   "outputs": [],
   "source": [
    "import numpy as np\n",
    "from aocd import get_data, submit\n",
    "from operator import itemgetter\n",
    "import re\n",
    "import collections"
   ],
   "metadata": {
    "collapsed": false,
    "pycharm": {
     "name": "#%%\n"
    }
   }
  },
  {
   "cell_type": "code",
   "execution_count": 2,
   "outputs": [],
   "source": [
    "example_data = \"root: pppw + sjmn\\ndbpl: 5\\ncczh: sllz + lgvd\\nzczc: 2\\nptdq: humn - dvpt\\ndvpt: 3\\nlfqf: 4\\nhumn: 5\\nljgn: 2\\nsjmn: drzm * dbpl\\nsllz: 4\\npppw: cczh / lfqf\\nlgvd: ljgn * ptdq\\ndrzm: hmdt - zczc\\nhmdt: 32\"\n",
    "real_data = get_data(day=21, year=2022)"
   ],
   "metadata": {
    "collapsed": false,
    "pycharm": {
     "name": "#%%\n"
    }
   }
  },
  {
   "cell_type": "code",
   "execution_count": 3,
   "outputs": [],
   "source": [
    "def run_operation(value1, operation, value2):\n",
    "    if operation == \"+\":\n",
    "        return value1 + value2\n",
    "    elif operation == \"-\":\n",
    "        return value1 - value2\n",
    "    elif operation == \"*\":\n",
    "        return value1 * value2\n",
    "    elif operation == \"/\":\n",
    "        return  value1 / value2\n",
    "    else:\n",
    "        raise ValueError(\"Unknown operation!\")\n",
    "\n",
    "def revert_operation(value, index_known, result, operation):\n",
    "    if operation == \"+\":\n",
    "        return result-value\n",
    "    elif operation == \"-\":\n",
    "        return result + value if index_known==1 else value - result\n",
    "    elif operation == \"*\":\n",
    "        return result / value\n",
    "    elif operation == \"/\":\n",
    "        return result * value if index_known==1 else value / result\n",
    "    elif operation == \"=\":\n",
    "        return value\n",
    "    else:\n",
    "        raise ValueError(\"Unknown operation!\")\n",
    "\n",
    "class Monkey:\n",
    "    def __init__(self, dependency_names, operation, resolved, is_me, is_root):\n",
    "        self.dependency_names = dependency_names\n",
    "        self.operation = operation\n",
    "        self.resolved = resolved\n",
    "        self.dependencies = []\n",
    "        self.depends_on_me = False\n",
    "        self.parent = None\n",
    "        self.is_me = is_me\n",
    "        self.is_root = is_root\n",
    "\n",
    "    def resolve(self):\n",
    "        if self.resolved is None:\n",
    "            self.resolved = run_operation(self.dependencies[0].resolve(), self.operation, self.dependencies[1].resolve())\n",
    "\n",
    "        return self.resolved"
   ],
   "metadata": {
    "collapsed": false,
    "pycharm": {
     "name": "#%%\n"
    }
   }
  },
  {
   "cell_type": "code",
   "execution_count": 4,
   "outputs": [],
   "source": [
    "pattern_operation = re.compile(r'^([a-z]{4}): ([a-z]{4}) ([\\+\\-\\*\\/]) ([a-z]{4})$')\n",
    "pattern_resolved = re.compile(r'^([a-z]{4}): (\\d+)$')\n",
    "\n",
    "monkeys = dict()\n",
    "\n",
    "for line in real_data.splitlines():\n",
    "    match = pattern_resolved.match(line)\n",
    "    if match:\n",
    "        name, value = match.groups()\n",
    "        monkeys[name] = Monkey([], None, int(value), name == \"humn\", name == \"root\")\n",
    "    else:\n",
    "        name, dependency1, operation, depedency2 = pattern_operation.match(line).groups()\n",
    "        monkeys[name] = Monkey([dependency1, depedency2], operation, None, name == \"humn\", name == \"root\")\n",
    "\n",
    "for monkey_name in monkeys:\n",
    "    monkey = monkeys[monkey_name]\n",
    "    if len(monkey.dependency_names) >= 0:\n",
    "        for dependent_monkey in monkey.dependency_names:\n",
    "            monkey.dependencies.append(monkeys[dependent_monkey])\n",
    "            monkeys[dependent_monkey].parent = monkey\n",
    "\n",
    "current = monkeys[\"humn\"]\n",
    "current.depends_on_me = True\n",
    "while current.parent is not None:\n",
    "    current = current.parent\n",
    "    current.depends_on_me = True"
   ],
   "metadata": {
    "collapsed": false,
    "pycharm": {
     "name": "#%%\n"
    }
   }
  },
  {
   "cell_type": "code",
   "execution_count": 5,
   "outputs": [
    {
     "name": "stdout",
     "output_type": "stream",
     "text": [
      "Value of root: 51928383302238\n"
     ]
    }
   ],
   "source": [
    "root = monkeys[\"root\"]\n",
    "print(f\"Value of root: {int(root.resolve())}\")"
   ],
   "metadata": {
    "collapsed": false,
    "pycharm": {
     "name": "#%%\n"
    }
   }
  },
  {
   "cell_type": "code",
   "execution_count": 6,
   "outputs": [
    {
     "name": "stdout",
     "output_type": "stream",
     "text": [
      "My number: 3305669217840\n"
     ]
    }
   ],
   "source": [
    "def resolve_me(monkey, result):\n",
    "    if monkey.is_me:\n",
    "        return result\n",
    "\n",
    "    operation = \"=\" if monkey.is_root else monkey.operation\n",
    "\n",
    "    if monkey.dependencies[0].depends_on_me and not monkey.dependencies[1].depends_on_me:\n",
    "        value = monkey.dependencies[1].resolve()\n",
    "        next_result = revert_operation(value, 1, result, operation)\n",
    "        return resolve_me(monkey.dependencies[0], next_result)\n",
    "    elif monkey.dependencies[1].depends_on_me and not monkey.dependencies[0].depends_on_me:\n",
    "        value = monkey.dependencies[0].resolve()\n",
    "        next_result = revert_operation(value, 0, result, operation)\n",
    "        return resolve_me(monkey.dependencies[1], next_result)\n",
    "    else:\n",
    "        raise ValueError(\"Cannot resolve\" + str(monkey.dependency_names))\n",
    "\n",
    "print(f\"My number: {int(resolve_me(root, None))}\")"
   ],
   "metadata": {
    "collapsed": false,
    "pycharm": {
     "name": "#%%\n"
    }
   }
  },
  {
   "cell_type": "code",
   "execution_count": null,
   "outputs": [],
   "source": [],
   "metadata": {
    "collapsed": false,
    "pycharm": {
     "name": "#%%\n"
    }
   }
  }
 ],
 "metadata": {
  "kernelspec": {
   "name": "tf_gpu",
   "language": "python",
   "display_name": "tf_gpu"
  },
  "language_info": {
   "codemirror_mode": {
    "name": "ipython",
    "version": 2
   },
   "file_extension": ".py",
   "mimetype": "text/x-python",
   "name": "python",
   "nbconvert_exporter": "python",
   "pygments_lexer": "ipython2",
   "version": "2.7.6"
  }
 },
 "nbformat": 4,
 "nbformat_minor": 0
}