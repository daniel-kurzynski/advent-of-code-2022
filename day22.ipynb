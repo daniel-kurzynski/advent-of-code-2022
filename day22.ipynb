{
 "cells": [
  {
   "cell_type": "markdown",
   "source": [],
   "metadata": {
    "collapsed": false,
    "pycharm": {
     "name": "#%% md\n"
    }
   }
  },
  {
   "cell_type": "code",
   "execution_count": 1,
   "outputs": [],
   "source": [
    "import numpy as np\n",
    "from aocd import get_data, submit\n",
    "from operator import itemgetter\n",
    "import re\n",
    "import collections"
   ],
   "metadata": {
    "collapsed": false,
    "pycharm": {
     "name": "#%%\n"
    }
   }
  },
  {
   "cell_type": "code",
   "execution_count": 2,
   "outputs": [],
   "source": [
    "example_data = \"        ...#\\n        .#..\\n        #...\\n        ....\\n...#.......#\\n........#...\\n..#....#....\\n..........#.\\n        ...#....\\n        .....#..\\n        .#......\\n        ......#.\\n\\n10R5L5R10L4R5L5\"\n",
    "real_data = get_data(day=22, year=2022)"
   ],
   "metadata": {
    "collapsed": false,
    "pycharm": {
     "name": "#%%\n"
    }
   }
  },
  {
   "cell_type": "code",
   "execution_count": 3,
   "outputs": [],
   "source": [
    "class Board():\n",
    "    def __init__(self, grid):\n",
    "        self.grid = grid\n",
    "\n",
    "    def move(self, current_state, number_of_tiles, cube = False):\n",
    "        for i in range(number_of_tiles):\n",
    "            row, column, facing = current_state\n",
    "\n",
    "            row = row + (+1 if facing == 1 else -1 if facing == 3 else 0)\n",
    "            column = column + (+1 if facing == 0 else -1 if facing == 2 else 0)\n",
    "\n",
    "            if row >= grid.shape[0] or column >= grid.shape[1] or grid[row, column] == \" \":\n",
    "                if cube:\n",
    "                    row, column, facing  = self.cube_wrapping(row, column, facing)\n",
    "                else:\n",
    "                    if facing == 0:\n",
    "                        column = np.argwhere(grid[row] != \" \")[0][0]\n",
    "                    elif facing == 2:\n",
    "                        column = np.argwhere(grid[row] != \" \")[-1][0]\n",
    "                    elif facing == 1:\n",
    "                        row = np.argwhere(grid[:,column] != \" \")[0][0]\n",
    "                    else:\n",
    "                        row = np.argwhere(grid[:,column] != \" \")[-1][0]\n",
    "\n",
    "\n",
    "            if grid[row, column] == \"#\":\n",
    "                return current_state\n",
    "\n",
    "            current_state = (row, column, facing)\n",
    "\n",
    "        return current_state\n",
    "\n",
    "    def get_first_state(self):\n",
    "        column = np.argwhere(grid[0] == \".\")[0][0]\n",
    "        row = 0\n",
    "        facing = 0\n",
    "        return (row, column, facing)\n",
    "\n",
    "    def cube_wrapping(self, row, column, facing):\n",
    "        # A -> E\n",
    "        if 150 <= row <200 and column == -1 and facing == 2:\n",
    "            return 0, row - 100, 1\n",
    "\n",
    "        # E -> A\n",
    "        if row == -1 and 50 <= column <100 and facing == 3:\n",
    "            return column + 100, 0, 0\n",
    "\n",
    "        #A -> F\n",
    "        elif row == 200 and 0 <= column < 50 and facing == 1:\n",
    "            return 0, column + 100, 1\n",
    "\n",
    "        #F -> A\n",
    "        elif row == -1 and 100 <= column < 150 and facing == 3:\n",
    "            return 199, column - 100, 3\n",
    "\n",
    "        #A -> C\n",
    "        elif 150 <= row < 200  and column == 50 and facing == 0:\n",
    "            return 149, row - 100, 3\n",
    "\n",
    "        #C -> A\n",
    "        elif row == 150  and 50 <= column < 100 and facing == 1:\n",
    "            return column + 100, 49, 2\n",
    "\n",
    "        #B -> E\n",
    "        elif 100 <= row < 150  and column == -1 and facing == 2:\n",
    "            return 149-row, 50, 0\n",
    "\n",
    "        #E -> B\n",
    "        elif 0 <= row < 50  and column == 49 and facing == 2:\n",
    "            return 149-row, 0, 0\n",
    "\n",
    "        #B -> D\n",
    "        elif row == 99  and 0 <= column < 50 and facing == 3:\n",
    "            return column+50, 50, 0\n",
    "\n",
    "        #D -> B\n",
    "        elif 50 <= row < 100  and column == 49 and facing == 2:\n",
    "            return 100, row - 50, 1\n",
    "\n",
    "        #C -> F\n",
    "        elif 100 <= row < 150  and column == 100 and facing == 0:\n",
    "            return 149 - row, 149, 2\n",
    "\n",
    "        #F -> C\n",
    "        elif 0 <= row < 50  and column == 150 and facing == 0:\n",
    "            return 149 - row, 99, 2\n",
    "\n",
    "        #D -> F\n",
    "        elif 50 <= row < 100  and column == 100 and facing == 0:\n",
    "            return 49, row + 50, 3\n",
    "\n",
    "        #F -> D\n",
    "        elif row == 50  and 100 <= column < 150  and facing == 1:\n",
    "            return column - 50, 99, 2\n",
    "        return row, column, facing\n"
   ],
   "metadata": {
    "collapsed": false,
    "pycharm": {
     "name": "#%%\n"
    }
   }
  },
  {
   "cell_type": "code",
   "execution_count": 4,
   "outputs": [],
   "source": [
    "raw_map,raw_instructions = real_data.split(\"\\n\\n\")\n",
    "instructions = re.findall(r\"(\\d+|R|L)\",raw_instructions)\n",
    "no_rows = len(raw_map.splitlines())\n",
    "no_columns = max(map(len,raw_map.splitlines()))\n",
    "grid = np.array([np.pad(list(line), (0,no_columns-len(line)), constant_values=\" \") for line in raw_map.splitlines()])\n",
    "\n",
    "board = Board(grid)"
   ],
   "metadata": {
    "collapsed": false,
    "pycharm": {
     "name": "#%%\n"
    }
   }
  },
  {
   "cell_type": "code",
   "execution_count": 5,
   "outputs": [
    {
     "name": "stdout",
     "output_type": "stream",
     "text": [
      "Final password for flat map: : 3590\n",
      "Final password for cube map: : 86382\n"
     ]
    }
   ],
   "source": [
    "def find_password(instructions, board, cube=False):\n",
    "    state = board.get_first_state()\n",
    "    for instruction in instructions:\n",
    "        row, column, facing = state\n",
    "        if instruction == \"L\":\n",
    "            state = (row, column, (facing-1)%4)\n",
    "        elif instruction == \"R\":\n",
    "            state = (row, column, (facing+1)%4)\n",
    "        else:\n",
    "            state = board.move(state, int(instruction), cube)\n",
    "\n",
    "    final_row, final_column, final_facing = state\n",
    "    return 1000 * (final_row+1) + 4 * (final_column+1) + final_facing\n",
    "print(f\"Final password for flat map: : {find_password(instructions, board)}\")\n",
    "print(f\"Final password for cube map: : {find_password(instructions, board, True)}\")"
   ],
   "metadata": {
    "collapsed": false,
    "pycharm": {
     "name": "#%%\n"
    }
   }
  },
  {
   "cell_type": "code",
   "execution_count": null,
   "outputs": [],
   "source": [],
   "metadata": {
    "collapsed": false,
    "pycharm": {
     "name": "#%%\n"
    }
   }
  }
 ],
 "metadata": {
  "kernelspec": {
   "name": "tf_gpu",
   "language": "python",
   "display_name": "tf_gpu"
  },
  "language_info": {
   "codemirror_mode": {
    "name": "ipython",
    "version": 2
   },
   "file_extension": ".py",
   "mimetype": "text/x-python",
   "name": "python",
   "nbconvert_exporter": "python",
   "pygments_lexer": "ipython2",
   "version": "2.7.6"
  }
 },
 "nbformat": 4,
 "nbformat_minor": 0
}