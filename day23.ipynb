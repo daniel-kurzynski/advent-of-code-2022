{
 "cells": [
  {
   "cell_type": "markdown",
   "source": [],
   "metadata": {
    "collapsed": false,
    "pycharm": {
     "name": "#%% md\n"
    }
   }
  },
  {
   "cell_type": "code",
   "execution_count": 1,
   "outputs": [],
   "source": [
    "import numpy as np\n",
    "from aocd import get_data, submit\n",
    "from operator import itemgetter\n",
    "import re\n",
    "import collections"
   ],
   "metadata": {
    "collapsed": false,
    "pycharm": {
     "name": "#%%\n"
    }
   }
  },
  {
   "cell_type": "code",
   "execution_count": 2,
   "outputs": [],
   "source": [
    "example_data = \"....#..\\n..###.#\\n#...#.#\\n.#...##\\n#.###..\\n##.#.##\\n.#..#..\"\n",
    "example_data2 = \".....\\n..##.\\n..#..\\n.....\\n..##.\\n.....\"\n",
    "real_data = get_data(day=23, year=2022)"
   ],
   "metadata": {
    "collapsed": false,
    "pycharm": {
     "name": "#%%\n"
    }
   }
  },
  {
   "cell_type": "code",
   "execution_count": 3,
   "outputs": [],
   "source": [
    "def add_padding(grid):\n",
    "    pad_fr = 1 if any(grid[0] == \"#\") else 0\n",
    "    pad_lr = 1 if any(grid[-1] == \"#\") else 0\n",
    "    pad_fc = 1 if any(grid[:,0] == \"#\") else 0\n",
    "    pad_lc = 1 if any(grid[:,-1] == \"#\") else 0\n",
    "\n",
    "    grid = np.pad(grid, pad_width=((pad_fr, pad_lr),(pad_fc, pad_lc)), constant_values=\".\")\n",
    "\n",
    "    return grid\n",
    "\n",
    "def has_to_move(position, grid):\n",
    "    return len(np.argwhere(grid[position[0]-1:position[0]+2,position[1]-1:position[1]+2] == \"#\")) > 1\n",
    "\n",
    "def get_next_position(round, position, grid):\n",
    "\n",
    "    options = [\n",
    "        (not any(grid[position[0]-1,position[1]-1:position[1]+2] == \"#\"), (position[0]-1, position[1])),\n",
    "        (not any(grid[position[0]+1,position[1]-1:position[1]+2] == \"#\"), (position[0]+1, position[1])),\n",
    "        (not any(grid[position[0]-1:position[0]+2,position[1]-1] == \"#\"), (position[0], position[1]-1)),\n",
    "        (not any(grid[position[0]-1:position[0]+2,position[1]+1] == \"#\"), (position[0], position[1]+1))\n",
    "    ]\n",
    "\n",
    "    for i in range(4):\n",
    "        if options[(i + round) % 4][0]:\n",
    "            return options[(i + round) % 4][1]\n",
    "\n",
    "    return None\n",
    "\n"
   ],
   "metadata": {
    "collapsed": false,
    "pycharm": {
     "name": "#%%\n"
    }
   }
  },
  {
   "cell_type": "code",
   "execution_count": 4,
   "outputs": [
    {
     "name": "stdout",
     "output_type": "stream",
     "text": [
      "Number of empty tiles after 10 rounds: 4249\n",
      "Number of rounds until no more movement: 980\n"
     ]
    }
   ],
   "source": [
    "grid = np.array([list(line) for line in real_data.splitlines()])\n",
    "\n",
    "for round in range(1000):\n",
    "    grid = add_padding(grid)\n",
    "    positions = list(map(tuple, np.argwhere(grid == \"#\")))\n",
    "\n",
    "    no_position_proposed = True\n",
    "    proposed_positions = []\n",
    "    for position in map(tuple, positions):\n",
    "        if has_to_move(position, grid):\n",
    "            new_position = get_next_position(round, position, grid)\n",
    "\n",
    "            if new_position is not None:\n",
    "                proposed_positions.append(new_position)\n",
    "                no_position_proposed = False\n",
    "            else:\n",
    "                proposed_positions.append(position)\n",
    "        else:\n",
    "            proposed_positions.append(position)\n",
    "\n",
    "    if no_position_proposed:\n",
    "        break\n",
    "\n",
    "    grid = np.full_like(grid, fill_value=\".\")\n",
    "\n",
    "    for index, position in enumerate(proposed_positions):\n",
    "        if position is None or proposed_positions.count(position) > 1:\n",
    "            grid[positions[index]] = \"#\"\n",
    "            continue\n",
    "        else:\n",
    "            grid[position] = \"#\"\n",
    "\n",
    "    if round == 9:\n",
    "        min_row = min(np.argwhere(grid == \"#\"), key=itemgetter(0))[0]\n",
    "        max_row = max(np.argwhere(grid == \"#\"), key=itemgetter(0))[0]\n",
    "        min_col = min(np.argwhere(grid == \"#\"), key=itemgetter(1))[1]\n",
    "        max_col = max(np.argwhere(grid == \"#\"), key=itemgetter(1))[1]\n",
    "        print(f\"Number of empty tiles after 10 rounds: {len(np.argwhere(grid[min_row:max_row+1,min_col:max_col+1] == '.'))}\")\n",
    "\n",
    "print(f\"Number of rounds until no more movement: {round+1}\")"
   ],
   "metadata": {
    "collapsed": false,
    "pycharm": {
     "name": "#%%\n"
    }
   }
  },
  {
   "cell_type": "code",
   "execution_count": null,
   "outputs": [],
   "source": [],
   "metadata": {
    "collapsed": false,
    "pycharm": {
     "name": "#%%\n"
    }
   }
  }
 ],
 "metadata": {
  "kernelspec": {
   "name": "tf_gpu",
   "language": "python",
   "display_name": "tf_gpu"
  },
  "language_info": {
   "codemirror_mode": {
    "name": "ipython",
    "version": 2
   },
   "file_extension": ".py",
   "mimetype": "text/x-python",
   "name": "python",
   "nbconvert_exporter": "python",
   "pygments_lexer": "ipython2",
   "version": "2.7.6"
  }
 },
 "nbformat": 4,
 "nbformat_minor": 0
}