{
 "cells": [
  {
   "cell_type": "markdown",
   "source": [],
   "metadata": {
    "collapsed": false,
    "pycharm": {
     "name": "#%% md\n"
    }
   }
  },
  {
   "cell_type": "code",
   "execution_count": 1,
   "outputs": [],
   "source": [
    "import numpy as np\n",
    "from aocd import get_data, submit\n",
    "from operator import itemgetter\n",
    "import re\n",
    "import collections"
   ],
   "metadata": {
    "collapsed": false,
    "pycharm": {
     "name": "#%%\n"
    }
   }
  },
  {
   "cell_type": "code",
   "execution_count": 2,
   "outputs": [],
   "source": [
    "example_data = \"#.######\\n#>>.<^<#\\n#.<..<<#\\n#>v.><>#\\n#<^v^^>#\\n######.#\"\n",
    "real_data = get_data(day=24, year=2022)"
   ],
   "metadata": {
    "collapsed": false,
    "pycharm": {
     "name": "#%%\n"
    }
   }
  },
  {
   "cell_type": "code",
   "execution_count": 3,
   "outputs": [
    {
     "name": "stdout",
     "output_type": "stream",
     "text": [
      "Time for one way: 242\n",
      "Time for way with going back : 720\n"
     ]
    }
   ],
   "source": [
    "grid = np.array([list(line) for line in real_data.splitlines()])\n",
    "rows = grid.shape[0]\n",
    "cols = grid.shape[1]\n",
    "\n",
    "def shortest_path(grid, start, end, minute=0):\n",
    "    positions = set()\n",
    "    positions.add((start))\n",
    "\n",
    "    while True:\n",
    "        next_positions = set()\n",
    "        next_minute = minute + 1\n",
    "        while len(positions) > 0:\n",
    "            position = positions.pop()\n",
    "            if position == end:\n",
    "                return minute\n",
    "\n",
    "\n",
    "            for movement in [(0,0), (-1,0), (0,1), (1,0), (0,-1)]:\n",
    "                next_position = tuple(np.add(position, movement))\n",
    "\n",
    "                if next_position[0] < 0 or next_position[0] > rows-1 or next_position[1] < 0 or next_position[1] > cols-1 or grid[next_position] == \"#\":\n",
    "                    continue\n",
    "\n",
    "                if grid[1+(next_position[0]-next_minute-1)%(rows-2), next_position[1]] == \"v\":\n",
    "                    continue\n",
    "                elif grid[1+(next_position[0]+next_minute-1)%(rows-2), next_position[1]] == \"^\":\n",
    "                    continue\n",
    "                elif grid[next_position[0], 1+(next_position[1]-next_minute-1)%(cols-2)] == \">\":\n",
    "                    continue\n",
    "                elif grid[next_position[0], 1+(next_position[1]+next_minute-1)%(cols-2)] == \"<\":\n",
    "                    continue\n",
    "\n",
    "                next_positions.add(next_position)\n",
    "\n",
    "        positions = next_positions\n",
    "        minute = next_minute\n",
    "\n",
    "first_way = shortest_path(grid, (0,1), (rows-1, cols-2))\n",
    "print(f\"Time for one way: {first_way}\")\n",
    "\n",
    "with_way_back = shortest_path(grid, (rows-1, cols-2), (0,1), first_way)\n",
    "print(f\"Time for way with going back : {shortest_path(grid, (0,1), (rows-1, cols-2), with_way_back)}\")"
   ],
   "metadata": {
    "collapsed": false,
    "pycharm": {
     "name": "#%%\n"
    }
   }
  },
  {
   "cell_type": "code",
   "execution_count": null,
   "outputs": [],
   "source": [],
   "metadata": {
    "collapsed": false,
    "pycharm": {
     "name": "#%%\n"
    }
   }
  }
 ],
 "metadata": {
  "kernelspec": {
   "name": "tf_gpu",
   "language": "python",
   "display_name": "tf_gpu"
  },
  "language_info": {
   "codemirror_mode": {
    "name": "ipython",
    "version": 2
   },
   "file_extension": ".py",
   "mimetype": "text/x-python",
   "name": "python",
   "nbconvert_exporter": "python",
   "pygments_lexer": "ipython2",
   "version": "2.7.6"
  }
 },
 "nbformat": 4,
 "nbformat_minor": 0
}