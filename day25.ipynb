{
 "cells": [
  {
   "cell_type": "markdown",
   "source": [],
   "metadata": {
    "collapsed": false,
    "pycharm": {
     "name": "#%% md\n"
    }
   }
  },
  {
   "cell_type": "code",
   "execution_count": 1,
   "outputs": [],
   "source": [
    "import numpy as np\n",
    "from aocd import get_data, submit\n",
    "from operator import itemgetter\n",
    "import re\n",
    "import collections"
   ],
   "metadata": {
    "collapsed": false,
    "pycharm": {
     "name": "#%%\n"
    }
   }
  },
  {
   "cell_type": "code",
   "execution_count": 2,
   "outputs": [],
   "source": [
    "example_data = \"1=-0-2\\n12111\\n2=0=\\n21\\n2=01\\n111\\n20012\\n112\\n1=-1=\\n1-12\\n12\\n1=\\n122\"\n",
    "real_data = get_data(day=25, year=2022)"
   ],
   "metadata": {
    "collapsed": false,
    "pycharm": {
     "name": "#%%\n"
    }
   }
  },
  {
   "cell_type": "code",
   "execution_count": 3,
   "outputs": [
    {
     "name": "stdout",
     "output_type": "stream",
     "text": [
      "SNAFU of the sum: 2-0-0=1-0=2====20=-2\n"
     ]
    }
   ],
   "source": [
    "char_mapping = {\"=\":-2, \"-\":-1, \"0\":0, \"1\":1, \"2\":2}\n",
    "char_mapping_snauf = {-2:\"=\",  -1:\"-\", 0:\"0\", 1:\"1\", 2:\"2\"}\n",
    "\n",
    "def convert_to_decimal(line):\n",
    "    return sum([char_mapping[char] * 5**index for index, char in enumerate(reversed(line))])\n",
    "\n",
    "def convert_to_SNAFU(number):\n",
    "    snauf = \"\"\n",
    "    while number > 0:\n",
    "        snauf_value = (number + 2) % 5 -2\n",
    "        snauf = char_mapping_snauf[snauf_value] + snauf\n",
    "        number = (number - snauf_value) // 5\n",
    "    return snauf\n",
    "\n",
    "print(f\"SNAFU of the sum: {convert_to_SNAFU(sum([convert_to_decimal(line) for line in real_data.splitlines()]))}\")"
   ],
   "metadata": {
    "collapsed": false,
    "pycharm": {
     "name": "#%%\n"
    }
   }
  },
  {
   "cell_type": "code",
   "execution_count": null,
   "outputs": [],
   "source": [],
   "metadata": {
    "collapsed": false,
    "pycharm": {
     "name": "#%%\n"
    }
   }
  }
 ],
 "metadata": {
  "kernelspec": {
   "name": "tf_gpu",
   "language": "python",
   "display_name": "tf_gpu"
  },
  "language_info": {
   "codemirror_mode": {
    "name": "ipython",
    "version": 2
   },
   "file_extension": ".py",
   "mimetype": "text/x-python",
   "name": "python",
   "nbconvert_exporter": "python",
   "pygments_lexer": "ipython2",
   "version": "2.7.6"
  }
 },
 "nbformat": 4,
 "nbformat_minor": 0
}