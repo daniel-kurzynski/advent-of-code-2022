{
 "cells": [
  {
   "cell_type": "code",
   "execution_count": 1,
   "metadata": {
    "collapsed": true,
    "pycharm": {
     "name": "#%%\n"
    }
   },
   "outputs": [],
   "source": [
    "from aocd import get_data, submit"
   ]
  },
  {
   "cell_type": "code",
   "execution_count": 13,
   "outputs": [],
   "source": [
    "example_data = \"2-4,6-8\\n2-3,4-5\\n5-7,7-9\\n2-8,3-7\\n6-6,4-6\\n2-6,4-8\"\n",
    "real_data = get_data(day=4, year=2022)\n",
    "section_pairs = [[list(map(int,section.split(\"-\"))) for section in pair.split((\",\"))] for pair in real_data.splitlines()]"
   ],
   "metadata": {
    "collapsed": false,
    "pycharm": {
     "name": "#%%\n"
    }
   }
  },
  {
   "cell_type": "code",
   "execution_count": 14,
   "outputs": [
    {
     "name": "stdout",
     "output_type": "stream",
     "text": [
      "Pairs fully contained: 456\n"
     ]
    }
   ],
   "source": [
    "containing_pairs = [pair for pair in section_pairs if (pair[0][0]>=pair[1][0] and pair[0][1]<=pair[1][1]) or (pair[0][0]<=pair[1][0] and pair[0][1]>=pair[1][1])]\n",
    "print(f\"Pairs fully contained: {len(containing_pairs)}\")"
   ],
   "metadata": {
    "collapsed": false,
    "pycharm": {
     "name": "#%%\n"
    }
   }
  },
  {
   "cell_type": "code",
   "execution_count": 15,
   "outputs": [
    {
     "name": "stdout",
     "output_type": "stream",
     "text": [
      "Overlapping pairs: 808\n"
     ]
    }
   ],
   "source": [
    "overlapping_pairs = [pair for pair in section_pairs if (pair[0][0]<=pair[1][1] and pair[0][1]>=pair[1][0]) or (pair[0][0]>=pair[1][1] and pair[0][1]<=pair[1][0])]\n",
    "print(f\"Overlapping pairs: {len(overlapping_pairs)}\")"
   ],
   "metadata": {
    "collapsed": false,
    "pycharm": {
     "name": "#%%\n"
    }
   }
  },
  {
   "cell_type": "code",
   "execution_count": 3,
   "outputs": [],
   "source": [],
   "metadata": {
    "collapsed": false,
    "pycharm": {
     "name": "#%%\n"
    }
   }
  }
 ],
 "metadata": {
  "kernelspec": {
   "name": "tf_gpu",
   "language": "python",
   "display_name": "tf_gpu"
  },
  "language_info": {
   "codemirror_mode": {
    "name": "ipython",
    "version": 2
   },
   "file_extension": ".py",
   "mimetype": "text/x-python",
   "name": "python",
   "nbconvert_exporter": "python",
   "pygments_lexer": "ipython2",
   "version": "2.7.6"
  }
 },
 "nbformat": 4,
 "nbformat_minor": 0
}