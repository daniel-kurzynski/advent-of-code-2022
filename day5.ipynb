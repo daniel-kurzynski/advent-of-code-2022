{
 "cells": [
  {
   "cell_type": "code",
   "execution_count": 1,
   "metadata": {
    "collapsed": true,
    "pycharm": {
     "name": "#%%\n"
    }
   },
   "outputs": [],
   "source": [
    "from aocd import get_data, submit\n",
    "from dataclasses import dataclass"
   ]
  },
  {
   "cell_type": "code",
   "execution_count": 2,
   "outputs": [],
   "source": [
    "example_data = \"    [D]    \\n[N] [C]    \\n[Z] [M] [P]\\n 1   2   3 \\n\\nmove 1 from 2 to 1\\nmove 3 from 1 to 3\\nmove 2 from 2 to 1\\nmove 1 from 1 to 2\"\n",
    "real_data = get_data(day=5, year=2022)"
   ],
   "metadata": {
    "collapsed": false,
    "pycharm": {
     "name": "#%%\n"
    }
   }
  },
  {
   "cell_type": "code",
   "execution_count": 3,
   "outputs": [],
   "source": [
    "stacks_raw,moves_raw = real_data.split(\"\\n\\n\")"
   ],
   "metadata": {
    "collapsed": false,
    "pycharm": {
     "name": "#%%\n"
    }
   }
  },
  {
   "cell_type": "code",
   "execution_count": 4,
   "outputs": [],
   "source": [
    "@dataclass\n",
    "class Move:\n",
    "  amount: int\n",
    "  from_position: int\n",
    "  to_position: int"
   ],
   "metadata": {
    "collapsed": false,
    "pycharm": {
     "name": "#%%\n"
    }
   }
  },
  {
   "cell_type": "code",
   "execution_count": 5,
   "outputs": [],
   "source": [
    "moves = []\n",
    "for line in moves_raw.splitlines():\n",
    "    move = line.split(\" \")\n",
    "    moves.append(Move(int(move[1]), int(move[3])-1, int(move[5])-1))"
   ],
   "metadata": {
    "collapsed": false,
    "pycharm": {
     "name": "#%%\n"
    }
   }
  },
  {
   "cell_type": "code",
   "execution_count": 15,
   "outputs": [],
   "source": [
    "number_of_stacks = int(len(stacks_raw.splitlines()[0])/4)+1\n",
    "stacks = [[] for i in range(number_of_stacks)]\n",
    "\n",
    "for line in stacks_raw.splitlines()[:-1]:\n",
    "  for i in range(number_of_stacks):\n",
    "    crate = line[i*4+1]\n",
    "    if crate != \" \":\n",
    "      stacks[i].insert(0, crate)"
   ],
   "metadata": {
    "collapsed": false,
    "pycharm": {
     "name": "#%%\n"
    }
   }
  },
  {
   "cell_type": "code",
   "execution_count": 16,
   "outputs": [],
   "source": [
    "def simulate(stacks, moves, maintain_order=False):\n",
    "  stacks = stacks.copy()\n",
    "\n",
    "  for move in moves:\n",
    "    crates = stacks[move.from_position][-move.amount:]\n",
    "\n",
    "    if not maintain_order:\n",
    "        crates = list(reversed(crates))\n",
    "\n",
    "    stacks[move.from_position] = stacks[move.from_position][:-move.amount]\n",
    "    stacks[move.to_position] = stacks[move.to_position] + crates\n",
    "\n",
    "  return stacks"
   ],
   "metadata": {
    "collapsed": false,
    "pycharm": {
     "name": "#%%\n"
    }
   }
  },
  {
   "cell_type": "code",
   "execution_count": 17,
   "outputs": [
    {
     "name": "stdout",
     "output_type": "stream",
     "text": [
      "Top crates 1: HBTMTBSDC\n"
     ]
    }
   ],
   "source": [
    "print(f\"Top crates 1: {''.join([stack[-1] for stack in simulate(stacks, moves)])}\")"
   ],
   "metadata": {
    "collapsed": false,
    "pycharm": {
     "name": "#%%\n"
    }
   }
  },
  {
   "cell_type": "code",
   "execution_count": 18,
   "outputs": [
    {
     "name": "stdout",
     "output_type": "stream",
     "text": [
      "Top crates 2: PQTJRSHWS\n"
     ]
    }
   ],
   "source": [
    "print(f\"Top crates 2: {''.join([stack[-1] for stack in simulate(stacks, moves, True)])}\")"
   ],
   "metadata": {
    "collapsed": false,
    "pycharm": {
     "name": "#%%\n"
    }
   }
  },
  {
   "cell_type": "code",
   "execution_count": null,
   "outputs": [],
   "source": [],
   "metadata": {
    "collapsed": false,
    "pycharm": {
     "name": "#%%\n"
    }
   }
  }
 ],
 "metadata": {
  "kernelspec": {
   "name": "tf_gpu",
   "language": "python",
   "display_name": "tf_gpu"
  },
  "language_info": {
   "codemirror_mode": {
    "name": "ipython",
    "version": 2
   },
   "file_extension": ".py",
   "mimetype": "text/x-python",
   "name": "python",
   "nbconvert_exporter": "python",
   "pygments_lexer": "ipython2",
   "version": "2.7.6"
  }
 },
 "nbformat": 4,
 "nbformat_minor": 0
}