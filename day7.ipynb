{
 "cells": [
  {
   "cell_type": "code",
   "execution_count": 1,
   "metadata": {
    "collapsed": true,
    "pycharm": {
     "name": "#%%\n"
    }
   },
   "outputs": [],
   "source": [
    "from aocd import get_data, submit\n",
    "from dataclasses import dataclass"
   ]
  },
  {
   "cell_type": "code",
   "execution_count": 2,
   "outputs": [],
   "source": [
    "example_data = \"$ cd /\\n$ ls\\ndir a\\n14848514 b.txt\\n8504156 c.dat\\ndir d\\n$ cd a\\n$ ls\\ndir e\\n29116 f\\n2557 g\\n62596 h.lst\\n$ cd e\\n$ ls\\n584 i\\n$ cd ..\\n$ cd ..\\n$ cd d\\n$ ls\\n4060174 j\\n8033020 d.log\\n5626152 d.ext\\n7214296 k\"\n",
    "real_data = get_data(day=7, year=2022)"
   ],
   "metadata": {
    "collapsed": false,
    "pycharm": {
     "name": "#%%\n"
    }
   }
  },
  {
   "cell_type": "code",
   "execution_count": 3,
   "outputs": [],
   "source": [
    "@dataclass()\n",
    "class File:\n",
    "    size: int\n",
    "    name: str\n",
    "\n",
    "    def is_file(self):\n",
    "      return True\n",
    "\n",
    "@dataclass()\n",
    "class Directory:\n",
    "    parent: object\n",
    "    name: str\n",
    "    content: dict\n",
    "\n",
    "    def is_file(self):\n",
    "        return False\n",
    "\n",
    "rootDirectory = Directory(None, \"/\", {})\n",
    "currentDirectory = rootDirectory\n",
    "\n",
    "for command_output in real_data.split(\"$\")[1:]:\n",
    "    command_output_split = command_output.strip().split(\"\\n\")\n",
    "    command = command_output_split[0].strip().split(\" \")\n",
    "    if command[0] == \"ls\":\n",
    "      for output in command_output_split[1:]:\n",
    "        content = output.strip().split(\" \")\n",
    "        if content[0] == \"dir\":\n",
    "          currentDirectory.content[content[1]] = Directory(currentDirectory, content[1], {})\n",
    "        else:\n",
    "          currentDirectory.content[content[1]] = File(int(content[0]), content[1])\n",
    "    elif command[0] == \"cd\":\n",
    "      if command[1] == \"/\":\n",
    "        currentDirectory = rootDirectory\n",
    "      elif command[1] == \"..\":\n",
    "          currentDirectory = currentDirectory.parent\n",
    "      else:\n",
    "        currentDirectory = currentDirectory.content[command[1]]\n",
    "    else:\n",
    "      raise ValueError(\"Unknown command\")"
   ],
   "metadata": {
    "collapsed": false,
    "pycharm": {
     "name": "#%%\n"
    }
   }
  },
  {
   "cell_type": "code",
   "execution_count": 4,
   "outputs": [],
   "source": [
    "def getDirectorySize(directory:Directory, sizes: []):\n",
    "   size = 0\n",
    "   for item in directory.content.values():\n",
    "     if item.is_file():\n",
    "       size = size + item.size\n",
    "     else:\n",
    "       size = size + getDirectorySize(item, sizes)\n",
    "   sizes.append(size)\n",
    "   return size"
   ],
   "metadata": {
    "collapsed": false,
    "pycharm": {
     "name": "#%%\n"
    }
   }
  },
  {
   "cell_type": "code",
   "execution_count": 5,
   "outputs": [
    {
     "name": "stdout",
     "output_type": "stream",
     "text": [
      "Sum of sizes below 100000: 1141028\n",
      "Size of directory to be deleted: 8278005\n"
     ]
    }
   ],
   "source": [
    "sizes = []\n",
    "size_root = getDirectorySize(rootDirectory, sizes)\n",
    "print(f\"Sum of sizes below 100000: {sum([size for size in sizes if size <=100000])}\")\n",
    "\n",
    "print(f\"Size of directory to be deleted: {min([size for size in sizes if size >= 30000000-(70000000-size_root)])}\")"
   ],
   "metadata": {
    "collapsed": false,
    "pycharm": {
     "name": "#%%\n"
    }
   }
  }
 ],
 "metadata": {
  "kernelspec": {
   "name": "tf_gpu",
   "language": "python",
   "display_name": "tf_gpu"
  },
  "language_info": {
   "codemirror_mode": {
    "name": "ipython",
    "version": 2
   },
   "file_extension": ".py",
   "mimetype": "text/x-python",
   "name": "python",
   "nbconvert_exporter": "python",
   "pygments_lexer": "ipython2",
   "version": "2.7.6"
  }
 },
 "nbformat": 4,
 "nbformat_minor": 0
}