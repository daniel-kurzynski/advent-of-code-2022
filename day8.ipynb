{
 "cells": [
  {
   "cell_type": "code",
   "execution_count": 1,
   "metadata": {
    "collapsed": true,
    "pycharm": {
     "name": "#%%\n"
    }
   },
   "outputs": [],
   "source": [
    "from aocd import get_data, submit\n",
    "import numpy as np"
   ]
  },
  {
   "cell_type": "code",
   "execution_count": 2,
   "outputs": [],
   "source": [
    "example_data = \"30373\\n25512\\n65332\\n33549\\n35390\"\n",
    "real_data = get_data(day=8, year=2022)"
   ],
   "metadata": {
    "collapsed": false,
    "pycharm": {
     "name": "#%%\n"
    }
   }
  },
  {
   "cell_type": "code",
   "execution_count": 3,
   "outputs": [],
   "source": [
    "grid = np.array([list(line) for line in real_data.splitlines()]).astype(int)\n",
    "rows = grid.shape[0]\n",
    "cols = grid.shape[1]"
   ],
   "metadata": {
    "collapsed": false,
    "pycharm": {
     "name": "#%%\n"
    }
   }
  },
  {
   "cell_type": "code",
   "execution_count": 4,
   "outputs": [
    {
     "name": "stdout",
     "output_type": "stream",
     "text": [
      "Visible trees: 1785\n",
      "Best scenic score: 345168\n"
     ]
    }
   ],
   "source": [
    "max_distance = 1\n",
    "visible_trees = 0\n",
    "for i in range(0, rows):\n",
    "    for j in range(0, cols):\n",
    "        larger_trees_up = np.argwhere(np.flip(grid[:i, j]) >= grid[i, j]).flatten()\n",
    "        larger_trees_down = np.argwhere(grid[i + 1:, j] >= grid[i, j]).flatten()\n",
    "        larger_trees_left =np.argwhere(np.flip(grid[i, :j] >= grid[i, j])).flatten()\n",
    "        larger_trees_right = np.argwhere(grid[i, j + 1:] >= grid[i, j]).flatten()\n",
    "\n",
    "        score_up = larger_trees_up[0] + 1 if larger_trees_up.size>0 else i\n",
    "        score_down = larger_trees_down[0] + 1 if larger_trees_down.size>0 else rows - i - 1\n",
    "        score_left = larger_trees_left[0] + 1 if larger_trees_left.size>0 else j\n",
    "        score_right = larger_trees_right[0] + 1 if larger_trees_right.size>0 else cols - j - 1\n",
    "\n",
    "        if larger_trees_up.size==0 or larger_trees_down.size==0 or larger_trees_left.size==0 or larger_trees_right.size==0:\n",
    "            visible_trees = visible_trees + 1\n",
    "\n",
    "        max_distance = max(max_distance, score_up * score_down * score_left * score_right)\n",
    "\n",
    "print(f\"Visible trees: {visible_trees}\")\n",
    "print(f\"Best scenic score: {max_distance}\")"
   ],
   "metadata": {
    "collapsed": false,
    "pycharm": {
     "name": "#%%\n"
    }
   }
  }
 ],
 "metadata": {
  "kernelspec": {
   "name": "tf_gpu",
   "language": "python",
   "display_name": "tf_gpu"
  },
  "language_info": {
   "codemirror_mode": {
    "name": "ipython",
    "version": 2
   },
   "file_extension": ".py",
   "mimetype": "text/x-python",
   "name": "python",
   "nbconvert_exporter": "python",
   "pygments_lexer": "ipython2",
   "version": "2.7.6"
  }
 },
 "nbformat": 4,
 "nbformat_minor": 0
}