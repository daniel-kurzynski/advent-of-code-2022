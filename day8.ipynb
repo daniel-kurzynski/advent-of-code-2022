{
 "cells": [
  {
   "cell_type": "code",
   "execution_count": 1,
   "metadata": {
    "collapsed": true,
    "pycharm": {
     "name": "#%%\n"
    }
   },
   "outputs": [],
   "source": [
    "from aocd import get_data, submit\n",
    "import numpy as np"
   ]
  },
  {
   "cell_type": "code",
   "execution_count": 2,
   "outputs": [],
   "source": [
    "example_data = \"30373\\n25512\\n65332\\n33549\\n35390\"\n",
    "real_data = get_data(day=8, year=2022)"
   ],
   "metadata": {
    "collapsed": false,
    "pycharm": {
     "name": "#%%\n"
    }
   }
  },
  {
   "cell_type": "code",
   "execution_count": 3,
   "outputs": [],
   "source": [
    "grid = np.array([list(line) for line in real_data.splitlines()]).astype(int)\n",
    "rows = grid.shape[0]\n",
    "cols = grid.shape[1]"
   ],
   "metadata": {
    "collapsed": false,
    "pycharm": {
     "name": "#%%\n"
    }
   }
  },
  {
   "cell_type": "code",
   "execution_count": 4,
   "outputs": [
    {
     "name": "stdout",
     "output_type": "stream",
     "text": [
      "Visible trees: 1785\n",
      "Best scenic score: 345168\n"
     ]
    }
   ],
   "source": [
    "def distance_to_larger_tree(trees, size_tree):\n",
    "    for i in range(len(trees)):\n",
    "        if trees[i] >= size_tree:\n",
    "            return i+1\n",
    "    return len(trees)\n",
    "\n",
    "\n",
    "max_distance = 1\n",
    "visible_trees = 0\n",
    "for i in range(0, rows):\n",
    "    for j in range(0, cols):\n",
    "        distance = 1\n",
    "        is_visible = False\n",
    "\n",
    "        #up\n",
    "        if i==0 or grid[i,j] > max(grid[:i,j]):\n",
    "            is_visible = True\n",
    "            distance = distance * i\n",
    "        else:\n",
    "            distance = distance * distance_to_larger_tree(list(reversed(grid[:i,j])), grid[i,j])\n",
    "\n",
    "        #down\n",
    "        if i ==rows-1 or grid[i,j] > max(grid[i+1:,j]):\n",
    "            is_visible = True\n",
    "            distance = distance * (rows-1-i)\n",
    "        else:\n",
    "            distance = distance * distance_to_larger_tree(grid[i+1:,j], grid[i,j])\n",
    "\n",
    "        #left\n",
    "        if j==0 or grid[i,j] > max(grid[i,:j]):\n",
    "            is_visible = True\n",
    "            distance = distance * j\n",
    "        else:\n",
    "            distance = distance * distance_to_larger_tree(list(reversed(grid[i,:j])), grid[i,j])\n",
    "\n",
    "        #right\n",
    "        if j == cols-1 or grid[i,j] > max(grid[i,j+1:]):\n",
    "            is_visible = True\n",
    "            distance = distance * (cols-1-j)\n",
    "        else:\n",
    "            distance = distance * distance_to_larger_tree(grid[i,j+1:], grid[i,j])\n",
    "\n",
    "        if is_visible:\n",
    "            visible_trees = visible_trees + 1\n",
    "\n",
    "        max_distance = max(max_distance, distance)\n",
    "\n",
    "print(f\"Visible trees: {visible_trees}\")\n",
    "print(f\"Best scenic score: {max_distance}\")"
   ],
   "metadata": {
    "collapsed": false,
    "pycharm": {
     "name": "#%%\n"
    }
   }
  }
 ],
 "metadata": {
  "kernelspec": {
   "name": "tf_gpu",
   "language": "python",
   "display_name": "tf_gpu"
  },
  "language_info": {
   "codemirror_mode": {
    "name": "ipython",
    "version": 2
   },
   "file_extension": ".py",
   "mimetype": "text/x-python",
   "name": "python",
   "nbconvert_exporter": "python",
   "pygments_lexer": "ipython2",
   "version": "2.7.6"
  }
 },
 "nbformat": 4,
 "nbformat_minor": 0
}