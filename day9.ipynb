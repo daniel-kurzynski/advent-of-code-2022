{
 "cells": [
  {
   "cell_type": "code",
   "execution_count": 1,
   "metadata": {
    "collapsed": true,
    "pycharm": {
     "name": "#%%\n"
    }
   },
   "outputs": [],
   "source": [
    "from aocd import get_data, submit"
   ]
  },
  {
   "cell_type": "code",
   "execution_count": 2,
   "outputs": [],
   "source": [
    "example_data = \"R 4\\nU 4\\nL 3\\nD 1\\nR 4\\nD 1\\nL 5\\nR 2\"\n",
    "real_data = get_data(day=9, year=2022)"
   ],
   "metadata": {
    "collapsed": false,
    "pycharm": {
     "name": "#%%\n"
    }
   }
  },
  {
   "cell_type": "code",
   "execution_count": 3,
   "outputs": [],
   "source": [
    "commands = [(x[0],int(x[1])) for x in [line.split(\" \") for line in real_data.splitlines()]]"
   ],
   "metadata": {
    "collapsed": false,
    "pycharm": {
     "name": "#%%\n"
    }
   }
  },
  {
   "cell_type": "code",
   "execution_count": 4,
   "outputs": [
    {
     "name": "stdout",
     "output_type": "stream",
     "text": [
      "Visited positions: 5683 with length of rope 2\n",
      "Visited positions: 2372 with length of rope 10\n"
     ]
    }
   ],
   "source": [
    "def simulate(commands, length_of_rope = 10):\n",
    "    tail = length_of_rope - 1\n",
    "    head = 0\n",
    "    rope_positions = [(0,0) for x in range(length_of_rope)]\n",
    "\n",
    "    visited = set()\n",
    "    visited.add(rope_positions[tail])\n",
    "\n",
    "    for direction,count in commands:\n",
    "        for c in range(count):\n",
    "            delta_x = -1 if direction == \"D\" else 1 if direction == \"U\" else 0\n",
    "            delta_y = -1 if direction == \"L\" else 1 if direction == \"R\" else 0\n",
    "\n",
    "            rope_positions[head] = (rope_positions[head][0] + delta_x, rope_positions[head][1] + delta_y)\n",
    "\n",
    "            for i in range(length_of_rope-1):\n",
    "                xh,yh = rope_positions[i]\n",
    "                xt,yt = rope_positions[i+1]\n",
    "\n",
    "                if abs(xh-xt) <= 1 and abs(yh-yt) <= 1:\n",
    "                    continue\n",
    "\n",
    "                if xh-xt > 0:\n",
    "                    xt = xt + 1\n",
    "                elif  xh-xt < 0:\n",
    "                    xt = xt - 1\n",
    "\n",
    "                if yh-yt > 0:\n",
    "                    yt = yt + 1\n",
    "                elif  yh-yt < 0:\n",
    "                    yt = yt - 1\n",
    "\n",
    "                rope_positions[i+1] = (xt,yt)\n",
    "\n",
    "            visited.add(rope_positions[tail])\n",
    "    print(f\"Visited positions: {len(visited)} with length of rope {length_of_rope}\")\n",
    "\n",
    "simulate(commands, 2)\n",
    "simulate(commands, 10)"
   ],
   "metadata": {
    "collapsed": false,
    "pycharm": {
     "name": "#%%\n"
    }
   }
  }
 ],
 "metadata": {
  "kernelspec": {
   "name": "tf_gpu",
   "language": "python",
   "display_name": "tf_gpu"
  },
  "language_info": {
   "codemirror_mode": {
    "name": "ipython",
    "version": 2
   },
   "file_extension": ".py",
   "mimetype": "text/x-python",
   "name": "python",
   "nbconvert_exporter": "python",
   "pygments_lexer": "ipython2",
   "version": "2.7.6"
  }
 },
 "nbformat": 4,
 "nbformat_minor": 0
}