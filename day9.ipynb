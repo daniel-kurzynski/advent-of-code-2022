{
 "cells": [
  {
   "cell_type": "code",
   "execution_count": 1,
   "metadata": {
    "collapsed": true,
    "pycharm": {
     "name": "#%%\n"
    }
   },
   "outputs": [],
   "source": [
    "from aocd import get_data, submit\n",
    "import numpy as np"
   ]
  },
  {
   "cell_type": "code",
   "execution_count": 2,
   "outputs": [],
   "source": [
    "example_data = \"R 4\\nU 4\\nL 3\\nD 1\\nR 4\\nD 1\\nL 5\\nR 2\"\n",
    "real_data = get_data(day=9, year=2022)"
   ],
   "metadata": {
    "collapsed": false,
    "pycharm": {
     "name": "#%%\n"
    }
   }
  },
  {
   "cell_type": "code",
   "execution_count": 3,
   "outputs": [],
   "source": [
    "commands = [(x[0],int(x[1])) for x in [line.split(\" \") for line in real_data.splitlines()]]"
   ],
   "metadata": {
    "collapsed": false,
    "pycharm": {
     "name": "#%%\n"
    }
   }
  },
  {
   "cell_type": "code",
   "execution_count": 4,
   "outputs": [
    {
     "name": "stdout",
     "output_type": "stream",
     "text": [
      "Visited positions: 5683 with length of 2\n",
      "Visited positions: 2372 with length of 10\n"
     ]
    }
   ],
   "source": [
    "def simulate(commands, length_of_rope = 10):\n",
    "    tail = length_of_rope - 1\n",
    "    head = 0\n",
    "    rope_positions = [(0,0) for x in range(length_of_rope)]\n",
    "\n",
    "    visited = set()\n",
    "    visited.add(rope_positions[tail])\n",
    "\n",
    "    for direction,count in commands:\n",
    "        delta_x = -1 if direction == \"D\" else 1 if direction == \"U\" else 0\n",
    "        delta_y = -1 if direction == \"L\" else 1 if direction == \"R\" else 0\n",
    "\n",
    "        for c in range(count):\n",
    "            rope_positions[head] = (rope_positions[head][0] + delta_x, rope_positions[head][1] + delta_y)\n",
    "\n",
    "            for i in range(length_of_rope-1):\n",
    "                x_leader,y_leader = rope_positions[i]\n",
    "                x_follower,y_follower = rope_positions[i+1]\n",
    "\n",
    "                if abs(x_leader-x_follower) <= 1 and abs(y_leader-y_follower) <= 1:\n",
    "                    continue\n",
    "\n",
    "                x_follower = x_follower + np.sign(x_leader-x_follower)\n",
    "                y_follower = y_follower + np.sign(y_leader-y_follower)\n",
    "\n",
    "                rope_positions[i+1] = (x_follower,y_follower)\n",
    "\n",
    "            visited.add(rope_positions[tail])\n",
    "    return len(visited)\n",
    "\n",
    "print(f\"Visited positions: {simulate(commands, 2)} with length of 2\")\n",
    "print(f\"Visited positions: {simulate(commands, 10)} with length of 10\")"
   ],
   "metadata": {
    "collapsed": false,
    "pycharm": {
     "name": "#%%\n"
    }
   }
  }
 ],
 "metadata": {
  "kernelspec": {
   "name": "tf_gpu",
   "language": "python",
   "display_name": "tf_gpu"
  },
  "language_info": {
   "codemirror_mode": {
    "name": "ipython",
    "version": 2
   },
   "file_extension": ".py",
   "mimetype": "text/x-python",
   "name": "python",
   "nbconvert_exporter": "python",
   "pygments_lexer": "ipython2",
   "version": "2.7.6"
  }
 },
 "nbformat": 4,
 "nbformat_minor": 0
}